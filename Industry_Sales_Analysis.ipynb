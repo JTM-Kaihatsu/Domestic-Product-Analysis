{
  "nbformat": 4,
  "nbformat_minor": 0,
  "metadata": {
    "colab": {
      "name": "Industry Sales Analysis.ipynb",
      "provenance": [],
      "collapsed_sections": [],
      "toc_visible": true,
      "authorship_tag": "ABX9TyNkAb8XpXCXxQYvMf0s50Cr"
    },
    "kernelspec": {
      "name": "python3",
      "display_name": "Python 3"
    }
  },
  "cells": [
    {
      "cell_type": "markdown",
      "metadata": {
        "id": "eu-IoDQbdzTG"
      },
      "source": [
        "# **Enterprise Sales Analysis**\n",
        "\n",
        "Objective: Gain industry insight by visualizing sales data.\n",
        "\n",
        " \n",
        "Data being used is from the Japanese Government Statistics website.\n"
      ]
    },
    {
      "cell_type": "markdown",
      "metadata": {
        "id": "nrIZgb4Eh81H"
      },
      "source": [
        "### Data Details\n",
        "\n",
        "*   Data Source：e-stat.go.jp\n",
        "*   Format：JSON\n",
        "*   Extracted Data: Economic Structure Survey\n",
        "\n",
        "\n"
      ]
    },
    {
      "cell_type": "markdown",
      "metadata": {
        "id": "7pO39Pze2DoI"
      },
      "source": [
        "### Data Extraction"
      ]
    },
    {
      "cell_type": "code",
      "metadata": {
        "id": "71Z-TEbrmmJ-"
      },
      "source": [
        "import requests\n",
        "import pandas as pd"
      ],
      "execution_count": 1,
      "outputs": []
    },
    {
      "cell_type": "code",
      "metadata": {
        "id": "JK-nlQ6HeFD9"
      },
      "source": [
        "try:\n",
        "  # Extract JSON file\n",
        "  app_id = '1b32db0d63fefc9bc09c7074764b410f16efc222'\n",
        "  url = 'http://api.e-stat.go.jp/rest/3.0/app/json/getStatsData?appId=' + \\\n",
        "  app_id + '&lang=E&statsDataId=0003414037&metaGetFlg=Y&cntGetFlg=N&explanationGetFlg=Y&annotationGetFlg=Y&sectionHeaderFlg=1'\n",
        "  req = requests.get(url)\n",
        "except requests.exceptions.TooManyRedirects:\n",
        "  print(\"In order to not get stuck in a URL redirect loop, the request has been halted. Please check the URL.\")\n",
        "  raise SystemExit()\n",
        "except requests.exceptions.RequestException as e:\n",
        "  # Catch other errors\n",
        "  raise SystemExit(e)"
      ],
      "execution_count": 2,
      "outputs": []
    },
    {
      "cell_type": "code",
      "metadata": {
        "colab": {
          "base_uri": "https://localhost:8080/"
        },
        "id": "iZEdRo_5YJOa",
        "outputId": "852792b7-342e-4094-f97b-3168bde58647"
      },
      "source": [
        "# Confirm extraction success\n",
        "if req.status_code == 200:\n",
        "  print(\"Data extraction successful\")\n",
        "else:\n",
        "  print(\"Error Encountered: \" + req.status_code)"
      ],
      "execution_count": 3,
      "outputs": [
        {
          "output_type": "stream",
          "text": [
            "Data extraction successful\n"
          ],
          "name": "stdout"
        }
      ]
    },
    {
      "cell_type": "code",
      "metadata": {
        "id": "0YDQqGarj7TU"
      },
      "source": [
        "req_dict = req.json()\n",
        "# Check JSON levels\n",
        "#req_dict['GET_STATS_DATA']"
      ],
      "execution_count": 4,
      "outputs": []
    },
    {
      "cell_type": "code",
      "metadata": {
        "id": "MD-JwbBPt9I5"
      },
      "source": [
        "extr = req_dict['GET_STATS_DATA']['STATISTICAL_DATA']['CLASS_INF']['CLASS_OBJ'][1]"
      ],
      "execution_count": 5,
      "outputs": []
    },
    {
      "cell_type": "code",
      "metadata": {
        "colab": {
          "base_uri": "https://localhost:8080/",
          "height": 419
        },
        "id": "xsdSEybe_SLI",
        "outputId": "76bf5c13-f2bb-4b3f-d7ad-96bb69c1561f"
      },
      "source": [
        "pd.json_normalize(extr['CLASS'])"
      ],
      "execution_count": 6,
      "outputs": [
        {
          "output_type": "execute_result",
          "data": {
            "text/html": [
              "<div>\n",
              "<style scoped>\n",
              "    .dataframe tbody tr th:only-of-type {\n",
              "        vertical-align: middle;\n",
              "    }\n",
              "\n",
              "    .dataframe tbody tr th {\n",
              "        vertical-align: top;\n",
              "    }\n",
              "\n",
              "    .dataframe thead th {\n",
              "        text-align: right;\n",
              "    }\n",
              "</style>\n",
              "<table border=\"1\" class=\"dataframe\">\n",
              "  <thead>\n",
              "    <tr style=\"text-align: right;\">\n",
              "      <th></th>\n",
              "      <th>@code</th>\n",
              "      <th>@name</th>\n",
              "      <th>@level</th>\n",
              "      <th>@parentCode</th>\n",
              "    </tr>\n",
              "  </thead>\n",
              "  <tbody>\n",
              "    <tr>\n",
              "      <th>0</th>\n",
              "      <td>00</td>\n",
              "      <td>E--R Industries</td>\n",
              "      <td>1</td>\n",
              "      <td>NaN</td>\n",
              "    </tr>\n",
              "    <tr>\n",
              "      <th>1</th>\n",
              "      <td>01</td>\n",
              "      <td>E Manufacturing</td>\n",
              "      <td>2</td>\n",
              "      <td>00</td>\n",
              "    </tr>\n",
              "    <tr>\n",
              "      <th>2</th>\n",
              "      <td>0101</td>\n",
              "      <td>09 Manufacture of food</td>\n",
              "      <td>3</td>\n",
              "      <td>01</td>\n",
              "    </tr>\n",
              "    <tr>\n",
              "      <th>3</th>\n",
              "      <td>010101</td>\n",
              "      <td>091 Livestock products</td>\n",
              "      <td>4</td>\n",
              "      <td>0101</td>\n",
              "    </tr>\n",
              "    <tr>\n",
              "      <th>4</th>\n",
              "      <td>010102</td>\n",
              "      <td>092 Seafood products</td>\n",
              "      <td>4</td>\n",
              "      <td>0101</td>\n",
              "    </tr>\n",
              "    <tr>\n",
              "      <th>...</th>\n",
              "      <td>...</td>\n",
              "      <td>...</td>\n",
              "      <td>...</td>\n",
              "      <td>...</td>\n",
              "    </tr>\n",
              "    <tr>\n",
              "      <th>564</th>\n",
              "      <td>140504</td>\n",
              "      <td>929 Business services, n.e.c.</td>\n",
              "      <td>4</td>\n",
              "      <td>1405</td>\n",
              "    </tr>\n",
              "    <tr>\n",
              "      <th>565</th>\n",
              "      <td>1406</td>\n",
              "      <td>95 Miscellaneous services</td>\n",
              "      <td>3</td>\n",
              "      <td>14</td>\n",
              "    </tr>\n",
              "    <tr>\n",
              "      <th>566</th>\n",
              "      <td>140601</td>\n",
              "      <td>951 Meeting halls</td>\n",
              "      <td>4</td>\n",
              "      <td>1406</td>\n",
              "    </tr>\n",
              "    <tr>\n",
              "      <th>567</th>\n",
              "      <td>140602</td>\n",
              "      <td>952 Slaughterhouses</td>\n",
              "      <td>4</td>\n",
              "      <td>1406</td>\n",
              "    </tr>\n",
              "    <tr>\n",
              "      <th>568</th>\n",
              "      <td>140603</td>\n",
              "      <td>959 Services, n.e.c.</td>\n",
              "      <td>4</td>\n",
              "      <td>1406</td>\n",
              "    </tr>\n",
              "  </tbody>\n",
              "</table>\n",
              "<p>569 rows × 4 columns</p>\n",
              "</div>"
            ],
            "text/plain": [
              "      @code                          @name @level @parentCode\n",
              "0        00                E--R Industries      1         NaN\n",
              "1        01                E Manufacturing      2          00\n",
              "2      0101         09 Manufacture of food      3          01\n",
              "3    010101         091 Livestock products      4        0101\n",
              "4    010102           092 Seafood products      4        0101\n",
              "..      ...                            ...    ...         ...\n",
              "564  140504  929 Business services, n.e.c.      4        1405\n",
              "565    1406      95 Miscellaneous services      3          14\n",
              "566  140601              951 Meeting halls      4        1406\n",
              "567  140602            952 Slaughterhouses      4        1406\n",
              "568  140603           959 Services, n.e.c.      4        1406\n",
              "\n",
              "[569 rows x 4 columns]"
            ]
          },
          "metadata": {
            "tags": []
          },
          "execution_count": 6
        }
      ]
    },
    {
      "cell_type": "markdown",
      "metadata": {
        "id": "ksQPxFxM5XH1"
      },
      "source": [
        "API section is still under development. Upon completion, it will be connected to the preprocessing section."
      ]
    },
    {
      "cell_type": "markdown",
      "metadata": {
        "id": "peT3nbzb81Ub"
      },
      "source": [
        "### Preprocessing"
      ]
    },
    {
      "cell_type": "code",
      "metadata": {
        "id": "4dA2OTL49c9o"
      },
      "source": [
        "import pandas as pd\n",
        "import numpy as np"
      ],
      "execution_count": 7,
      "outputs": []
    },
    {
      "cell_type": "code",
      "metadata": {
        "colab": {
          "base_uri": "https://localhost:8080/",
          "height": 377
        },
        "id": "9lfAbJppXxmU",
        "outputId": "84002efa-b8e8-4be4-9660-f6b8d7277d49"
      },
      "source": [
        "# Read dataset into Pandas dataframe\n",
        "df = pd.read_csv(\"Industry_Data_2019.csv\")\n",
        "# Peek at dataset\n",
        "df.head()"
      ],
      "execution_count": 8,
      "outputs": [
        {
          "output_type": "execute_result",
          "data": {
            "text/html": [
              "<div>\n",
              "<style scoped>\n",
              "    .dataframe tbody tr th:only-of-type {\n",
              "        vertical-align: middle;\n",
              "    }\n",
              "\n",
              "    .dataframe tbody tr th {\n",
              "        vertical-align: top;\n",
              "    }\n",
              "\n",
              "    .dataframe thead th {\n",
              "        text-align: right;\n",
              "    }\n",
              "</style>\n",
              "<table border=\"1\" class=\"dataframe\">\n",
              "  <thead>\n",
              "    <tr style=\"text-align: right;\">\n",
              "      <th></th>\n",
              "      <th>Area classification Code</th>\n",
              "      <th>Area classification</th>\n",
              "      <th>Time Code</th>\n",
              "      <th>Time</th>\n",
              "      <th>Industry of enterprise, etc. Code</th>\n",
              "      <th>Industry of enterprise, etc.</th>\n",
              "      <th>/Tabulated variable</th>\n",
              "      <th>Number of enterprises, etc.</th>\n",
              "      <th>Sales (income)[million yen]</th>\n",
              "      <th>Number of enterprises, etc..1</th>\n",
              "      <th>Sales (income)[million yen].1</th>\n",
              "      <th>Number of enterprises, etc..2</th>\n",
              "      <th>Sales (income)[million yen].2</th>\n",
              "    </tr>\n",
              "  </thead>\n",
              "  <tbody>\n",
              "    <tr>\n",
              "      <th>0</th>\n",
              "      <td>0</td>\n",
              "      <td>Japan</td>\n",
              "      <td>2019000000</td>\n",
              "      <td>2019</td>\n",
              "      <td>0</td>\n",
              "      <td>E--R Industries</td>\n",
              "      <td>NaN</td>\n",
              "      <td>1,333,501</td>\n",
              "      <td>1,520,656,648</td>\n",
              "      <td>1,204,653</td>\n",
              "      <td>1,328,807,082</td>\n",
              "      <td>128,848</td>\n",
              "      <td>191,849,566</td>\n",
              "    </tr>\n",
              "    <tr>\n",
              "      <th>1</th>\n",
              "      <td>0</td>\n",
              "      <td>Japan</td>\n",
              "      <td>2019000000</td>\n",
              "      <td>2019</td>\n",
              "      <td>1</td>\n",
              "      <td>E Manufacturing</td>\n",
              "      <td>NaN</td>\n",
              "      <td>204,017</td>\n",
              "      <td>413,224,430</td>\n",
              "      <td>202,019</td>\n",
              "      <td>412,385,485</td>\n",
              "      <td>1,998</td>\n",
              "      <td>838,945</td>\n",
              "    </tr>\n",
              "    <tr>\n",
              "      <th>2</th>\n",
              "      <td>0</td>\n",
              "      <td>Japan</td>\n",
              "      <td>2019000000</td>\n",
              "      <td>2019</td>\n",
              "      <td>101</td>\n",
              "      <td>09 Manufacture of food</td>\n",
              "      <td>NaN</td>\n",
              "      <td>20,670</td>\n",
              "      <td>35,748,641</td>\n",
              "      <td>20,087</td>\n",
              "      <td>35,405,024</td>\n",
              "      <td>583</td>\n",
              "      <td>343,616</td>\n",
              "    </tr>\n",
              "    <tr>\n",
              "      <th>3</th>\n",
              "      <td>0</td>\n",
              "      <td>Japan</td>\n",
              "      <td>2019000000</td>\n",
              "      <td>2019</td>\n",
              "      <td>10101</td>\n",
              "      <td>091 Livestock products</td>\n",
              "      <td>NaN</td>\n",
              "      <td>1,913</td>\n",
              "      <td>9,991,250</td>\n",
              "      <td>1,828</td>\n",
              "      <td>9,764,837</td>\n",
              "      <td>85</td>\n",
              "      <td>226,413</td>\n",
              "    </tr>\n",
              "    <tr>\n",
              "      <th>4</th>\n",
              "      <td>0</td>\n",
              "      <td>Japan</td>\n",
              "      <td>2019000000</td>\n",
              "      <td>2019</td>\n",
              "      <td>10102</td>\n",
              "      <td>092 Seafood products</td>\n",
              "      <td>NaN</td>\n",
              "      <td>4,422</td>\n",
              "      <td>4,664,091</td>\n",
              "      <td>4,341</td>\n",
              "      <td>4,643,805</td>\n",
              "      <td>81</td>\n",
              "      <td>20,287</td>\n",
              "    </tr>\n",
              "  </tbody>\n",
              "</table>\n",
              "</div>"
            ],
            "text/plain": [
              "   Area classification Code  ... Sales (income)[million yen].2\n",
              "0                         0  ...                   191,849,566\n",
              "1                         0  ...                       838,945\n",
              "2                         0  ...                       343,616\n",
              "3                         0  ...                       226,413\n",
              "4                         0  ...                        20,287\n",
              "\n",
              "[5 rows x 13 columns]"
            ]
          },
          "metadata": {
            "tags": []
          },
          "execution_count": 8
        }
      ]
    },
    {
      "cell_type": "code",
      "metadata": {
        "colab": {
          "base_uri": "https://localhost:8080/"
        },
        "id": "6KPvphNn_R3N",
        "outputId": "9e614635-c232-4ffd-ecb1-949a1a55ba35"
      },
      "source": [
        "#Investigate datatypes\n",
        "print(df.isna().sum())\n",
        "print(df.dtypes)\n",
        "\n",
        "# Cast enteprise label section to string\n",
        "df['Industry of enterprise, etc.'] = df['Industry of enterprise, etc.'].astype(str)"
      ],
      "execution_count": 9,
      "outputs": [
        {
          "output_type": "stream",
          "text": [
            "Area classification Code               0\n",
            "Area classification                    0\n",
            "Time Code                              0\n",
            "Time                                   0\n",
            "Industry of enterprise, etc. Code      0\n",
            "Industry of enterprise, etc.           0\n",
            "/Tabulated variable                  569\n",
            "Number of enterprises, etc.            0\n",
            "Sales (income)[million yen]            0\n",
            "Number of enterprises, etc..1          0\n",
            "Sales (income)[million yen].1          0\n",
            "Number of enterprises, etc..2          0\n",
            "Sales (income)[million yen].2          0\n",
            "dtype: int64\n",
            "Area classification Code               int64\n",
            "Area classification                   object\n",
            "Time Code                              int64\n",
            "Time                                   int64\n",
            "Industry of enterprise, etc. Code      int64\n",
            "Industry of enterprise, etc.          object\n",
            "/Tabulated variable                  float64\n",
            "Number of enterprises, etc.           object\n",
            "Sales (income)[million yen]           object\n",
            "Number of enterprises, etc..1         object\n",
            "Sales (income)[million yen].1         object\n",
            "Number of enterprises, etc..2         object\n",
            "Sales (income)[million yen].2         object\n",
            "dtype: object\n"
          ],
          "name": "stdout"
        }
      ]
    },
    {
      "cell_type": "code",
      "metadata": {
        "colab": {
          "base_uri": "https://localhost:8080/",
          "height": 204
        },
        "id": "Zeex_53V9pmo",
        "outputId": "e411c9f8-99d7-47f9-c025-1e154ce3be0d"
      },
      "source": [
        "# For now, I'm only interested in the following columns:\n",
        "# Industry of enterprise, number of enterprises, and sales\n",
        "# The other columns distinguish between companies and non-company corps\n",
        "df = df[['Industry of enterprise, etc.', 'Number of enterprises, etc.', 'Sales (income)[million yen]']]\n",
        "df.head()"
      ],
      "execution_count": 10,
      "outputs": [
        {
          "output_type": "execute_result",
          "data": {
            "text/html": [
              "<div>\n",
              "<style scoped>\n",
              "    .dataframe tbody tr th:only-of-type {\n",
              "        vertical-align: middle;\n",
              "    }\n",
              "\n",
              "    .dataframe tbody tr th {\n",
              "        vertical-align: top;\n",
              "    }\n",
              "\n",
              "    .dataframe thead th {\n",
              "        text-align: right;\n",
              "    }\n",
              "</style>\n",
              "<table border=\"1\" class=\"dataframe\">\n",
              "  <thead>\n",
              "    <tr style=\"text-align: right;\">\n",
              "      <th></th>\n",
              "      <th>Industry of enterprise, etc.</th>\n",
              "      <th>Number of enterprises, etc.</th>\n",
              "      <th>Sales (income)[million yen]</th>\n",
              "    </tr>\n",
              "  </thead>\n",
              "  <tbody>\n",
              "    <tr>\n",
              "      <th>0</th>\n",
              "      <td>E--R Industries</td>\n",
              "      <td>1,333,501</td>\n",
              "      <td>1,520,656,648</td>\n",
              "    </tr>\n",
              "    <tr>\n",
              "      <th>1</th>\n",
              "      <td>E Manufacturing</td>\n",
              "      <td>204,017</td>\n",
              "      <td>413,224,430</td>\n",
              "    </tr>\n",
              "    <tr>\n",
              "      <th>2</th>\n",
              "      <td>09 Manufacture of food</td>\n",
              "      <td>20,670</td>\n",
              "      <td>35,748,641</td>\n",
              "    </tr>\n",
              "    <tr>\n",
              "      <th>3</th>\n",
              "      <td>091 Livestock products</td>\n",
              "      <td>1,913</td>\n",
              "      <td>9,991,250</td>\n",
              "    </tr>\n",
              "    <tr>\n",
              "      <th>4</th>\n",
              "      <td>092 Seafood products</td>\n",
              "      <td>4,422</td>\n",
              "      <td>4,664,091</td>\n",
              "    </tr>\n",
              "  </tbody>\n",
              "</table>\n",
              "</div>"
            ],
            "text/plain": [
              "  Industry of enterprise, etc.  ... Sales (income)[million yen]\n",
              "0              E--R Industries  ...               1,520,656,648\n",
              "1              E Manufacturing  ...                 413,224,430\n",
              "2       09 Manufacture of food  ...                  35,748,641\n",
              "3       091 Livestock products  ...                   9,991,250\n",
              "4         092 Seafood products  ...                   4,664,091\n",
              "\n",
              "[5 rows x 3 columns]"
            ]
          },
          "metadata": {
            "tags": []
          },
          "execution_count": 10
        }
      ]
    },
    {
      "cell_type": "code",
      "metadata": {
        "colab": {
          "base_uri": "https://localhost:8080/",
          "height": 204
        },
        "id": "KElNO_GENYZl",
        "outputId": "8bc19c62-a5bd-4158-a9fd-2688bc2f4aaf"
      },
      "source": [
        "# Note that the dataset has a top-level row we won't be using; this will be \n",
        "# removed, but the indexes have to change accordingly\n",
        "df = df[1:]\n",
        "\n",
        "# Rename columns for simplicity\n",
        "df.columns = [\"Enterprise\", \"Number of Businesses\", \"Sales\"]\n",
        "df.head()"
      ],
      "execution_count": 11,
      "outputs": [
        {
          "output_type": "execute_result",
          "data": {
            "text/html": [
              "<div>\n",
              "<style scoped>\n",
              "    .dataframe tbody tr th:only-of-type {\n",
              "        vertical-align: middle;\n",
              "    }\n",
              "\n",
              "    .dataframe tbody tr th {\n",
              "        vertical-align: top;\n",
              "    }\n",
              "\n",
              "    .dataframe thead th {\n",
              "        text-align: right;\n",
              "    }\n",
              "</style>\n",
              "<table border=\"1\" class=\"dataframe\">\n",
              "  <thead>\n",
              "    <tr style=\"text-align: right;\">\n",
              "      <th></th>\n",
              "      <th>Enterprise</th>\n",
              "      <th>Number of Businesses</th>\n",
              "      <th>Sales</th>\n",
              "    </tr>\n",
              "  </thead>\n",
              "  <tbody>\n",
              "    <tr>\n",
              "      <th>1</th>\n",
              "      <td>E Manufacturing</td>\n",
              "      <td>204,017</td>\n",
              "      <td>413,224,430</td>\n",
              "    </tr>\n",
              "    <tr>\n",
              "      <th>2</th>\n",
              "      <td>09 Manufacture of food</td>\n",
              "      <td>20,670</td>\n",
              "      <td>35,748,641</td>\n",
              "    </tr>\n",
              "    <tr>\n",
              "      <th>3</th>\n",
              "      <td>091 Livestock products</td>\n",
              "      <td>1,913</td>\n",
              "      <td>9,991,250</td>\n",
              "    </tr>\n",
              "    <tr>\n",
              "      <th>4</th>\n",
              "      <td>092 Seafood products</td>\n",
              "      <td>4,422</td>\n",
              "      <td>4,664,091</td>\n",
              "    </tr>\n",
              "    <tr>\n",
              "      <th>5</th>\n",
              "      <td>093 Canned and preserved fruit and vegetable p...</td>\n",
              "      <td>1,433</td>\n",
              "      <td>856,417</td>\n",
              "    </tr>\n",
              "  </tbody>\n",
              "</table>\n",
              "</div>"
            ],
            "text/plain": [
              "                                          Enterprise  ...        Sales\n",
              "1                                    E Manufacturing  ...  413,224,430\n",
              "2                             09 Manufacture of food  ...   35,748,641\n",
              "3                             091 Livestock products  ...    9,991,250\n",
              "4                               092 Seafood products  ...    4,664,091\n",
              "5  093 Canned and preserved fruit and vegetable p...  ...      856,417\n",
              "\n",
              "[5 rows x 3 columns]"
            ]
          },
          "metadata": {
            "tags": []
          },
          "execution_count": 11
        }
      ]
    },
    {
      "cell_type": "markdown",
      "metadata": {
        "id": "TpcpTcgQxzRn"
      },
      "source": [
        "Note: Information is missing from dataset for 'Manufactured ice' on row 16 and 'Tobacco manufactures' on row 17. The number of businesses listed for tobacco manufactures is one, so Japan Tobacco (日本たばこ産業株式会社; JT), the only Japanese company with the vast majority of market share, has been selected for revenue imputation. According to JT's financial highlights fact sheet (https://www.jti.co.jp/investors/individual/finance/index.html), inside sales account for 611.5 billion yen, while outside sales account for 568.9 billion yen, for a total of 1,180.400 billion yen.\n",
        "\n",
        "Because we know how much the aggregated total is for the sub-category 'Manufacture of beverages, tobacco, and feed,' we can infer the remaining amount for 'Manufactured ice' to be 1,753,438 million yen.\n"
      ]
    },
    {
      "cell_type": "code",
      "metadata": {
        "colab": {
          "base_uri": "https://localhost:8080/",
          "height": 111
        },
        "id": "ZA3jaWbB2Yof",
        "outputId": "e08dba13-4d9d-4188-8fdf-f559268e1334"
      },
      "source": [
        "df[df['Sales'] == 'X']"
      ],
      "execution_count": 12,
      "outputs": [
        {
          "output_type": "execute_result",
          "data": {
            "text/html": [
              "<div>\n",
              "<style scoped>\n",
              "    .dataframe tbody tr th:only-of-type {\n",
              "        vertical-align: middle;\n",
              "    }\n",
              "\n",
              "    .dataframe tbody tr th {\n",
              "        vertical-align: top;\n",
              "    }\n",
              "\n",
              "    .dataframe thead th {\n",
              "        text-align: right;\n",
              "    }\n",
              "</style>\n",
              "<table border=\"1\" class=\"dataframe\">\n",
              "  <thead>\n",
              "    <tr style=\"text-align: right;\">\n",
              "      <th></th>\n",
              "      <th>Enterprise</th>\n",
              "      <th>Number of Businesses</th>\n",
              "      <th>Sales</th>\n",
              "    </tr>\n",
              "  </thead>\n",
              "  <tbody>\n",
              "    <tr>\n",
              "      <th>16</th>\n",
              "      <td>104 Manufactured ice</td>\n",
              "      <td>128</td>\n",
              "      <td>X</td>\n",
              "    </tr>\n",
              "    <tr>\n",
              "      <th>17</th>\n",
              "      <td>105 Tobacco manufactures</td>\n",
              "      <td>1</td>\n",
              "      <td>X</td>\n",
              "    </tr>\n",
              "  </tbody>\n",
              "</table>\n",
              "</div>"
            ],
            "text/plain": [
              "                  Enterprise Number of Businesses Sales\n",
              "16      104 Manufactured ice                  128     X\n",
              "17  105 Tobacco manufactures                    1     X"
            ]
          },
          "metadata": {
            "tags": []
          },
          "execution_count": 12
        }
      ]
    },
    {
      "cell_type": "code",
      "metadata": {
        "id": "GrkawkwChknr"
      },
      "source": [
        "# Format sales and businesses columns so analysis can be performed\n",
        "df['Sales'].replace(',','', regex=True, inplace=True)\n",
        "df['Number of Businesses'].replace(',','', regex=True, inplace=True)\n",
        "\n",
        "# See above for imputation strategy\n",
        "df.at[16, 'Sales'] = '1753438'\n",
        "df.at[17, 'Sales'] = '1180400'\n",
        "\n",
        "# Cast the remaining column entries to int\n",
        "df['Sales'] = df['Sales'].astype('int64')\n",
        "df['Number of Businesses'] = df['Number of Businesses'].astype('int64')"
      ],
      "execution_count": 13,
      "outputs": []
    },
    {
      "cell_type": "markdown",
      "metadata": {
        "id": "SAbmzcnhvrN0"
      },
      "source": [
        "Observe that the dataset has levels for industry and sub-industry. These will interfere with any sorting or aggregation that we would like to perform, so we will add them as a row label instead."
      ]
    },
    {
      "cell_type": "code",
      "metadata": {
        "id": "sgoiPQaKHYgO"
      },
      "source": [
        "def CategoryLabel(dataset_df, mask, prefix_len, extract_col_name, category_col_name):\n",
        "  # Prep dataframe to return; ensure original isn't affected by changes\n",
        "  updated_df = dataset_df.copy(deep = True)\n",
        "  category_df = updated_df.loc[mask]\n",
        "  names = category_df[extract_col_name].unique()\n",
        "\n",
        "  categories = []\n",
        "  level_labels = []\n",
        "  # Get names of categories\n",
        "  for s in names:\n",
        "    level_labels.append(s)\n",
        "    #a = s.split(\" \")\n",
        "    # Remove prefix denoting level\n",
        "    a = (''.join([i for i in s[prefix_len+1:]]))\n",
        "    categories.append(a.lstrip(' '))\n",
        "\n",
        "  indexes = []\n",
        "  # Get indexes so appropriate rows can be given the category label\n",
        "  index_start_points = [i-1 for i in list(category_df.index.values)]\n",
        "  indexes = index_start_points[1:]\n",
        "  indexes.append(len(updated_df)+1)\n",
        "\n",
        "  # Create new dataframe column and populate row-by-row\n",
        "  updated_df[category_col_name] = \"\"\n",
        "  i_target = 0\n",
        "\n",
        "  i_target = indexes.pop(0)\n",
        "  industry = categories.pop(0)\n",
        "  # Must have +1 or last row of array won't be reached\n",
        "  for i in range(0, len(updated_df)+1):\n",
        "    if i == i_target+1 and len(indexes) != 0:\n",
        "      i_target = indexes.pop(0)\n",
        "      industry = categories.pop(0)\n",
        "    updated_df.at[i, category_col_name] = industry\n",
        "    \n",
        "  # Remove label rows\n",
        "  updated_df = updated_df[~updated_df[extract_col_name].isin(level_labels)]\n",
        "  updated_df.reset_index(inplace = True, drop = True)\n",
        "  # Note: Behavior observed where rows are erroneously created during the loop\n",
        "  # This row is designated as index 0. This may be Pandas-side behavior\n",
        "  updated_df.drop(len(updated_df)-1, inplace = True)\n",
        "  \n",
        "  # Use the following statement to verify functionality.\n",
        "  # Number of rows dropped should match number of categories\n",
        "  #print('DEBUG: Category Rows: %d // Rows Removed: %d' % (len(names), len(dataset_df) - len(updated_df)))\n",
        "  return updated_df"
      ],
      "execution_count": 14,
      "outputs": []
    },
    {
      "cell_type": "code",
      "metadata": {
        "colab": {
          "base_uri": "https://localhost:8080/",
          "height": 419
        },
        "id": "H79rZ1JmKn3C",
        "outputId": "c57a4d2e-2d23-47d5-bf7b-6b8c43daaf7c"
      },
      "source": [
        "# For main industry notation\n",
        "\n",
        "# Denote main section and subsections\n",
        "temp_series = df['Enterprise'].str.split(' ', expand = True)[0]\n",
        "# Remove alphabet marker that precedes industry name\n",
        "mask = (temp_series.str.len() == 1)\n",
        "# Call method to associate label with record\n",
        "ind_labeled_df = CategoryLabel(df, mask, 1, \"Enterprise\", \"Industry\")\n",
        "ind_labeled_df"
      ],
      "execution_count": 15,
      "outputs": [
        {
          "output_type": "execute_result",
          "data": {
            "text/html": [
              "<div>\n",
              "<style scoped>\n",
              "    .dataframe tbody tr th:only-of-type {\n",
              "        vertical-align: middle;\n",
              "    }\n",
              "\n",
              "    .dataframe tbody tr th {\n",
              "        vertical-align: top;\n",
              "    }\n",
              "\n",
              "    .dataframe thead th {\n",
              "        text-align: right;\n",
              "    }\n",
              "</style>\n",
              "<table border=\"1\" class=\"dataframe\">\n",
              "  <thead>\n",
              "    <tr style=\"text-align: right;\">\n",
              "      <th></th>\n",
              "      <th>Enterprise</th>\n",
              "      <th>Number of Businesses</th>\n",
              "      <th>Sales</th>\n",
              "      <th>Industry</th>\n",
              "    </tr>\n",
              "  </thead>\n",
              "  <tbody>\n",
              "    <tr>\n",
              "      <th>0</th>\n",
              "      <td>09 Manufacture of food</td>\n",
              "      <td>20670.0</td>\n",
              "      <td>35748641.0</td>\n",
              "      <td>Manufacturing</td>\n",
              "    </tr>\n",
              "    <tr>\n",
              "      <th>1</th>\n",
              "      <td>091 Livestock products</td>\n",
              "      <td>1913.0</td>\n",
              "      <td>9991250.0</td>\n",
              "      <td>Manufacturing</td>\n",
              "    </tr>\n",
              "    <tr>\n",
              "      <th>2</th>\n",
              "      <td>092 Seafood products</td>\n",
              "      <td>4422.0</td>\n",
              "      <td>4664091.0</td>\n",
              "      <td>Manufacturing</td>\n",
              "    </tr>\n",
              "    <tr>\n",
              "      <th>3</th>\n",
              "      <td>093 Canned and preserved fruit and vegetable p...</td>\n",
              "      <td>1433.0</td>\n",
              "      <td>856417.0</td>\n",
              "      <td>Manufacturing</td>\n",
              "    </tr>\n",
              "    <tr>\n",
              "      <th>4</th>\n",
              "      <td>094 Seasonings</td>\n",
              "      <td>1459.0</td>\n",
              "      <td>2822390.0</td>\n",
              "      <td>Manufacturing</td>\n",
              "    </tr>\n",
              "    <tr>\n",
              "      <th>...</th>\n",
              "      <td>...</td>\n",
              "      <td>...</td>\n",
              "      <td>...</td>\n",
              "      <td>...</td>\n",
              "    </tr>\n",
              "    <tr>\n",
              "      <th>549</th>\n",
              "      <td>929 Business services, n.e.c.</td>\n",
              "      <td>17189.0</td>\n",
              "      <td>10685850.0</td>\n",
              "      <td>Services, n.e.c.</td>\n",
              "    </tr>\n",
              "    <tr>\n",
              "      <th>550</th>\n",
              "      <td>95 Miscellaneous services</td>\n",
              "      <td>946.0</td>\n",
              "      <td>388067.0</td>\n",
              "      <td>Services, n.e.c.</td>\n",
              "    </tr>\n",
              "    <tr>\n",
              "      <th>551</th>\n",
              "      <td>951 Meeting halls</td>\n",
              "      <td>744.0</td>\n",
              "      <td>219329.0</td>\n",
              "      <td>Services, n.e.c.</td>\n",
              "    </tr>\n",
              "    <tr>\n",
              "      <th>552</th>\n",
              "      <td>952 Slaughterhouses</td>\n",
              "      <td>70.0</td>\n",
              "      <td>46919.0</td>\n",
              "      <td>Services, n.e.c.</td>\n",
              "    </tr>\n",
              "    <tr>\n",
              "      <th>553</th>\n",
              "      <td>959 Services, n.e.c.</td>\n",
              "      <td>132.0</td>\n",
              "      <td>121819.0</td>\n",
              "      <td>Services, n.e.c.</td>\n",
              "    </tr>\n",
              "  </tbody>\n",
              "</table>\n",
              "<p>554 rows × 4 columns</p>\n",
              "</div>"
            ],
            "text/plain": [
              "                                            Enterprise  ...          Industry\n",
              "0                               09 Manufacture of food  ...     Manufacturing\n",
              "1                               091 Livestock products  ...     Manufacturing\n",
              "2                                 092 Seafood products  ...     Manufacturing\n",
              "3    093 Canned and preserved fruit and vegetable p...  ...     Manufacturing\n",
              "4                                       094 Seasonings  ...     Manufacturing\n",
              "..                                                 ...  ...               ...\n",
              "549                      929 Business services, n.e.c.  ...  Services, n.e.c.\n",
              "550                          95 Miscellaneous services  ...  Services, n.e.c.\n",
              "551                                  951 Meeting halls  ...  Services, n.e.c.\n",
              "552                                952 Slaughterhouses  ...  Services, n.e.c.\n",
              "553                               959 Services, n.e.c.  ...  Services, n.e.c.\n",
              "\n",
              "[554 rows x 4 columns]"
            ]
          },
          "metadata": {
            "tags": []
          },
          "execution_count": 15
        }
      ]
    },
    {
      "cell_type": "code",
      "metadata": {
        "colab": {
          "base_uri": "https://localhost:8080/",
          "height": 538
        },
        "id": "8rG4dS5QiADc",
        "outputId": "8d856d51-a303-4bf6-ad69-84a5d6169647"
      },
      "source": [
        "# For sub-industries\n",
        "\n",
        "# Denote main section and subsections\n",
        "temp_series = ind_labeled_df['Enterprise'].str.split(' ', expand = True)[0]\n",
        "mask = (temp_series.str.len() == 2)\n",
        "\n",
        "# Call method to associate label with record\n",
        "labeled_df = CategoryLabel(ind_labeled_df, mask, 2, \"Enterprise\", \"Sub-Industry\")\n",
        "labeled_df"
      ],
      "execution_count": 16,
      "outputs": [
        {
          "output_type": "execute_result",
          "data": {
            "text/html": [
              "<div>\n",
              "<style scoped>\n",
              "    .dataframe tbody tr th:only-of-type {\n",
              "        vertical-align: middle;\n",
              "    }\n",
              "\n",
              "    .dataframe tbody tr th {\n",
              "        vertical-align: top;\n",
              "    }\n",
              "\n",
              "    .dataframe thead th {\n",
              "        text-align: right;\n",
              "    }\n",
              "</style>\n",
              "<table border=\"1\" class=\"dataframe\">\n",
              "  <thead>\n",
              "    <tr style=\"text-align: right;\">\n",
              "      <th></th>\n",
              "      <th>Enterprise</th>\n",
              "      <th>Number of Businesses</th>\n",
              "      <th>Sales</th>\n",
              "      <th>Industry</th>\n",
              "      <th>Sub-Industry</th>\n",
              "    </tr>\n",
              "  </thead>\n",
              "  <tbody>\n",
              "    <tr>\n",
              "      <th>0</th>\n",
              "      <td>091 Livestock products</td>\n",
              "      <td>1913.0</td>\n",
              "      <td>9991250.0</td>\n",
              "      <td>Manufacturing</td>\n",
              "      <td>Manufacture of food</td>\n",
              "    </tr>\n",
              "    <tr>\n",
              "      <th>1</th>\n",
              "      <td>092 Seafood products</td>\n",
              "      <td>4422.0</td>\n",
              "      <td>4664091.0</td>\n",
              "      <td>Manufacturing</td>\n",
              "      <td>Manufacture of food</td>\n",
              "    </tr>\n",
              "    <tr>\n",
              "      <th>2</th>\n",
              "      <td>093 Canned and preserved fruit and vegetable p...</td>\n",
              "      <td>1433.0</td>\n",
              "      <td>856417.0</td>\n",
              "      <td>Manufacturing</td>\n",
              "      <td>Manufacture of food</td>\n",
              "    </tr>\n",
              "    <tr>\n",
              "      <th>3</th>\n",
              "      <td>094 Seasonings</td>\n",
              "      <td>1459.0</td>\n",
              "      <td>2822390.0</td>\n",
              "      <td>Manufacturing</td>\n",
              "      <td>Manufacture of food</td>\n",
              "    </tr>\n",
              "    <tr>\n",
              "      <th>4</th>\n",
              "      <td>095 Sugar processing</td>\n",
              "      <td>93.0</td>\n",
              "      <td>560548.0</td>\n",
              "      <td>Manufacturing</td>\n",
              "      <td>Manufacture of food</td>\n",
              "    </tr>\n",
              "    <tr>\n",
              "      <th>...</th>\n",
              "      <td>...</td>\n",
              "      <td>...</td>\n",
              "      <td>...</td>\n",
              "      <td>...</td>\n",
              "      <td>...</td>\n",
              "    </tr>\n",
              "    <tr>\n",
              "      <th>464</th>\n",
              "      <td>923 Guard services</td>\n",
              "      <td>3522.0</td>\n",
              "      <td>2487820.0</td>\n",
              "      <td>Services, n.e.c.</td>\n",
              "      <td>Miscellaneous business services</td>\n",
              "    </tr>\n",
              "    <tr>\n",
              "      <th>465</th>\n",
              "      <td>929 Business services, n.e.c.</td>\n",
              "      <td>17189.0</td>\n",
              "      <td>10685850.0</td>\n",
              "      <td>Services, n.e.c.</td>\n",
              "      <td>Miscellaneous business services</td>\n",
              "    </tr>\n",
              "    <tr>\n",
              "      <th>466</th>\n",
              "      <td>951 Meeting halls</td>\n",
              "      <td>744.0</td>\n",
              "      <td>219329.0</td>\n",
              "      <td>Services, n.e.c.</td>\n",
              "      <td>Miscellaneous services</td>\n",
              "    </tr>\n",
              "    <tr>\n",
              "      <th>467</th>\n",
              "      <td>952 Slaughterhouses</td>\n",
              "      <td>70.0</td>\n",
              "      <td>46919.0</td>\n",
              "      <td>Services, n.e.c.</td>\n",
              "      <td>Miscellaneous services</td>\n",
              "    </tr>\n",
              "    <tr>\n",
              "      <th>468</th>\n",
              "      <td>959 Services, n.e.c.</td>\n",
              "      <td>132.0</td>\n",
              "      <td>121819.0</td>\n",
              "      <td>Services, n.e.c.</td>\n",
              "      <td>Miscellaneous services</td>\n",
              "    </tr>\n",
              "  </tbody>\n",
              "</table>\n",
              "<p>469 rows × 5 columns</p>\n",
              "</div>"
            ],
            "text/plain": [
              "                                            Enterprise  ...                     Sub-Industry\n",
              "0                               091 Livestock products  ...              Manufacture of food\n",
              "1                                 092 Seafood products  ...              Manufacture of food\n",
              "2    093 Canned and preserved fruit and vegetable p...  ...              Manufacture of food\n",
              "3                                       094 Seasonings  ...              Manufacture of food\n",
              "4                                 095 Sugar processing  ...              Manufacture of food\n",
              "..                                                 ...  ...                              ...\n",
              "464                                 923 Guard services  ...  Miscellaneous business services\n",
              "465                      929 Business services, n.e.c.  ...  Miscellaneous business services\n",
              "466                                  951 Meeting halls  ...           Miscellaneous services\n",
              "467                                952 Slaughterhouses  ...           Miscellaneous services\n",
              "468                               959 Services, n.e.c.  ...           Miscellaneous services\n",
              "\n",
              "[469 rows x 5 columns]"
            ]
          },
          "metadata": {
            "tags": []
          },
          "execution_count": 16
        }
      ]
    },
    {
      "cell_type": "code",
      "metadata": {
        "id": "wcuLtYFaCvmY"
      },
      "source": [
        "# Define method to remove number denoting enterprise-level\n",
        "def RemovePrefix(s):\n",
        "    a = s.split(\" \")\n",
        "    return (''.join([i for i in s[4:]]))\n",
        "\n",
        "labeled_df['Enterprise'] = labeled_df['Enterprise'].apply(RemovePrefix)"
      ],
      "execution_count": 17,
      "outputs": []
    },
    {
      "cell_type": "code",
      "metadata": {
        "id": "3khmJ7PPM4AK",
        "colab": {
          "base_uri": "https://localhost:8080/",
          "height": 606
        },
        "outputId": "929a7b4a-d7e4-4d7b-e42c-fc0b282bbe02"
      },
      "source": [
        "# Calculate average sales per enterprise\n",
        "\n",
        "labeled_df['Average Sales per Business'] = labeled_df['Sales']/labeled_df['Number of Businesses']\n",
        "labeled_df['Average Sales per Business'] = labeled_df['Average Sales per Business'].astype(np.int64)\n",
        "labeled_df"
      ],
      "execution_count": 18,
      "outputs": [
        {
          "output_type": "execute_result",
          "data": {
            "text/html": [
              "<div>\n",
              "<style scoped>\n",
              "    .dataframe tbody tr th:only-of-type {\n",
              "        vertical-align: middle;\n",
              "    }\n",
              "\n",
              "    .dataframe tbody tr th {\n",
              "        vertical-align: top;\n",
              "    }\n",
              "\n",
              "    .dataframe thead th {\n",
              "        text-align: right;\n",
              "    }\n",
              "</style>\n",
              "<table border=\"1\" class=\"dataframe\">\n",
              "  <thead>\n",
              "    <tr style=\"text-align: right;\">\n",
              "      <th></th>\n",
              "      <th>Enterprise</th>\n",
              "      <th>Number of Businesses</th>\n",
              "      <th>Sales</th>\n",
              "      <th>Industry</th>\n",
              "      <th>Sub-Industry</th>\n",
              "      <th>Average Sales per Business</th>\n",
              "    </tr>\n",
              "  </thead>\n",
              "  <tbody>\n",
              "    <tr>\n",
              "      <th>0</th>\n",
              "      <td>Livestock products</td>\n",
              "      <td>1913.0</td>\n",
              "      <td>9991250.0</td>\n",
              "      <td>Manufacturing</td>\n",
              "      <td>Manufacture of food</td>\n",
              "      <td>5222</td>\n",
              "    </tr>\n",
              "    <tr>\n",
              "      <th>1</th>\n",
              "      <td>Seafood products</td>\n",
              "      <td>4422.0</td>\n",
              "      <td>4664091.0</td>\n",
              "      <td>Manufacturing</td>\n",
              "      <td>Manufacture of food</td>\n",
              "      <td>1054</td>\n",
              "    </tr>\n",
              "    <tr>\n",
              "      <th>2</th>\n",
              "      <td>Canned and preserved fruit and vegetable products</td>\n",
              "      <td>1433.0</td>\n",
              "      <td>856417.0</td>\n",
              "      <td>Manufacturing</td>\n",
              "      <td>Manufacture of food</td>\n",
              "      <td>597</td>\n",
              "    </tr>\n",
              "    <tr>\n",
              "      <th>3</th>\n",
              "      <td>Seasonings</td>\n",
              "      <td>1459.0</td>\n",
              "      <td>2822390.0</td>\n",
              "      <td>Manufacturing</td>\n",
              "      <td>Manufacture of food</td>\n",
              "      <td>1934</td>\n",
              "    </tr>\n",
              "    <tr>\n",
              "      <th>4</th>\n",
              "      <td>Sugar processing</td>\n",
              "      <td>93.0</td>\n",
              "      <td>560548.0</td>\n",
              "      <td>Manufacturing</td>\n",
              "      <td>Manufacture of food</td>\n",
              "      <td>6027</td>\n",
              "    </tr>\n",
              "    <tr>\n",
              "      <th>...</th>\n",
              "      <td>...</td>\n",
              "      <td>...</td>\n",
              "      <td>...</td>\n",
              "      <td>...</td>\n",
              "      <td>...</td>\n",
              "      <td>...</td>\n",
              "    </tr>\n",
              "    <tr>\n",
              "      <th>464</th>\n",
              "      <td>Guard services</td>\n",
              "      <td>3522.0</td>\n",
              "      <td>2487820.0</td>\n",
              "      <td>Services, n.e.c.</td>\n",
              "      <td>Miscellaneous business services</td>\n",
              "      <td>706</td>\n",
              "    </tr>\n",
              "    <tr>\n",
              "      <th>465</th>\n",
              "      <td>Business services, n.e.c.</td>\n",
              "      <td>17189.0</td>\n",
              "      <td>10685850.0</td>\n",
              "      <td>Services, n.e.c.</td>\n",
              "      <td>Miscellaneous business services</td>\n",
              "      <td>621</td>\n",
              "    </tr>\n",
              "    <tr>\n",
              "      <th>466</th>\n",
              "      <td>Meeting halls</td>\n",
              "      <td>744.0</td>\n",
              "      <td>219329.0</td>\n",
              "      <td>Services, n.e.c.</td>\n",
              "      <td>Miscellaneous services</td>\n",
              "      <td>294</td>\n",
              "    </tr>\n",
              "    <tr>\n",
              "      <th>467</th>\n",
              "      <td>Slaughterhouses</td>\n",
              "      <td>70.0</td>\n",
              "      <td>46919.0</td>\n",
              "      <td>Services, n.e.c.</td>\n",
              "      <td>Miscellaneous services</td>\n",
              "      <td>670</td>\n",
              "    </tr>\n",
              "    <tr>\n",
              "      <th>468</th>\n",
              "      <td>Services, n.e.c.</td>\n",
              "      <td>132.0</td>\n",
              "      <td>121819.0</td>\n",
              "      <td>Services, n.e.c.</td>\n",
              "      <td>Miscellaneous services</td>\n",
              "      <td>922</td>\n",
              "    </tr>\n",
              "  </tbody>\n",
              "</table>\n",
              "<p>469 rows × 6 columns</p>\n",
              "</div>"
            ],
            "text/plain": [
              "                                            Enterprise  ...  Average Sales per Business\n",
              "0                                   Livestock products  ...                        5222\n",
              "1                                     Seafood products  ...                        1054\n",
              "2    Canned and preserved fruit and vegetable products  ...                         597\n",
              "3                                           Seasonings  ...                        1934\n",
              "4                                     Sugar processing  ...                        6027\n",
              "..                                                 ...  ...                         ...\n",
              "464                                     Guard services  ...                         706\n",
              "465                          Business services, n.e.c.  ...                         621\n",
              "466                                      Meeting halls  ...                         294\n",
              "467                                    Slaughterhouses  ...                         670\n",
              "468                                   Services, n.e.c.  ...                         922\n",
              "\n",
              "[469 rows x 6 columns]"
            ]
          },
          "metadata": {
            "tags": []
          },
          "execution_count": 18
        }
      ]
    },
    {
      "cell_type": "markdown",
      "metadata": {
        "id": "FhFWCpaHxhBX"
      },
      "source": [
        "### Data Aggregation\n"
      ]
    },
    {
      "cell_type": "markdown",
      "metadata": {
        "id": "plrKU5B_1hnd"
      },
      "source": [
        "We will aggregate information in an attempt to answer the folliwing:\n",
        "\n",
        "\n",
        "*   Which enterprise has the largest overall amount of sales?\n",
        "*   Which industry is most efficient, in terms of sales per individual company?\n",
        "*   Of the enterprises with the top sales, which has the highest market share for its industry?\n",
        "\n"
      ]
    },
    {
      "cell_type": "code",
      "metadata": {
        "id": "jwid2Y5rzEGH"
      },
      "source": [
        "import matplotlib.pyplot as plt\n",
        "import seaborn as sns\n",
        "import numpy as np\n",
        "import matplotlib"
      ],
      "execution_count": 19,
      "outputs": []
    },
    {
      "cell_type": "markdown",
      "metadata": {
        "id": "54Buxkp6EDmE"
      },
      "source": [
        "#### Which enterprise has the largest overall amount of sales?"
      ]
    },
    {
      "cell_type": "code",
      "metadata": {
        "id": "PR9l2J8C2alR"
      },
      "source": [
        "# Group by main industry and aggregate sales values by mean. Sort by sales\n",
        "agg_df = labeled_df.groupby(['Industry']).mean().sort_values(by=['Sales'], ascending = False)\n",
        "# Select the top 8\n",
        "agg_df = agg_df.head(8)\n",
        "# Create a graph legend for corresponding industries\n",
        "industry_legend = list(agg_df.index.values)\n",
        "agg_plot = agg_df.reset_index()"
      ],
      "execution_count": 20,
      "outputs": []
    },
    {
      "cell_type": "code",
      "metadata": {
        "colab": {
          "base_uri": "https://localhost:8080/",
          "height": 242
        },
        "id": "VXANjjOrsrTM",
        "outputId": "c208cda6-058f-4d97-a194-64f3e4c203cd"
      },
      "source": [
        "fg = sns.FacetGrid(data=agg_plot, hue='Industry', hue_order=industry_legend, aspect=1.61)\n",
        "fg.map(plt.scatter, 'Number of Businesses', 'Sales').add_legend()"
      ],
      "execution_count": 21,
      "outputs": [
        {
          "output_type": "execute_result",
          "data": {
            "text/plain": [
              "<seaborn.axisgrid.FacetGrid at 0x7fe0f0b2b400>"
            ]
          },
          "metadata": {
            "tags": []
          },
          "execution_count": 21
        },
        {
          "output_type": "display_data",
          "data": {
            "image/png": "[encoded data removed]",
            "text/plain": [
              "<Figure size 594.885x216 with 1 Axes>"
            ]
          },
          "metadata": {
            "tags": [],
            "needs_background": "light"
          }
        }
      ]
    },
    {
      "cell_type": "markdown",
      "metadata": {
        "id": "gPs7zXGHE0Zu"
      },
      "source": [
        "#### Which industry is most efficient, in terms of sales per individual company?"
      ]
    },
    {
      "cell_type": "code",
      "metadata": {
        "id": "SsCALKWo18M4"
      },
      "source": [
        "# Group by main industry and aggregate sales values by mean. Sort by average sales per business\n",
        "agg_df = labeled_df.groupby(['Industry']).mean().sort_values(by=['Average Sales per Business'], ascending = False)\n",
        "# Select top 8\n",
        "agg_df = agg_df.head(8)\n",
        "# Create graph legend\n",
        "industry_legend = list(agg_df.index.values)\n",
        "agg_plot = agg_df.reset_index()"
      ],
      "execution_count": 22,
      "outputs": []
    },
    {
      "cell_type": "code",
      "metadata": {
        "colab": {
          "base_uri": "https://localhost:8080/",
          "height": 242
        },
        "id": "7JJqqV7homku",
        "outputId": "43680a54-8282-4533-916c-d91cad37b1bd"
      },
      "source": [
        "fg = sns.FacetGrid(data=agg_plot, hue='Industry', hue_order=industry_legend, aspect=1.61)\n",
        "fg.map(plt.scatter, 'Number of Businesses', 'Average Sales per Business').add_legend()"
      ],
      "execution_count": 23,
      "outputs": [
        {
          "output_type": "execute_result",
          "data": {
            "text/plain": [
              "<seaborn.axisgrid.FacetGrid at 0x7fe0f1284be0>"
            ]
          },
          "metadata": {
            "tags": []
          },
          "execution_count": 23
        },
        {
          "output_type": "display_data",
          "data": {
            "image/png": "[encoded data removed]",
            "text/plain": [
              "<Figure size 580.385x216 with 1 Axes>"
            ]
          },
          "metadata": {
            "tags": [],
            "needs_background": "light"
          }
        }
      ]
    },
    {
      "cell_type": "markdown",
      "metadata": {
        "id": "3dj0F2x6FHKQ"
      },
      "source": [
        "#### Of the enterprises with the top sales, which has the highest market share for its industry?"
      ]
    },
    {
      "cell_type": "code",
      "metadata": {
        "id": "povdbgDBzJX1"
      },
      "source": [
        "# Get the greatest number of sales produced by an enterprise in each industry category\n",
        "idx = labeled_df.groupby(['Industry'])['Sales'].transform(max) == labeled_df['Sales']\n",
        "# Sort by sales\n",
        "largest_sales = labeled_df[idx].sort_values(['Sales'], ascending = False)\n",
        "largest_sales.reset_index(inplace = True, drop = True)\n",
        "\n",
        "industry_sales = labeled_df.groupby(['Industry']).sum()\n",
        "industry_sales = industry_sales['Sales']"
      ],
      "execution_count": 24,
      "outputs": []
    },
    {
      "cell_type": "code",
      "metadata": {
        "id": "qpnfumIFG05z"
      },
      "source": [
        "chart_data = largest_sales.head(5)\n",
        "stack_chart = []\n",
        "# Create dictionary to convert to dataframe that contains information for graph\n",
        "for i in range(0, len(chart_data)):\n",
        "    industry = chart_data.loc[i, \"Industry\"]\n",
        "    enterprise = chart_data.loc[i, \"Enterprise\"]\n",
        "    enterprise_sales = chart_data.loc[i, \"Sales\"]\n",
        "\n",
        "    # Calculate percentage of market share\n",
        "    mkt_share = round((enterprise_sales / industry_sales[industry]),4)*100\n",
        "    # Remaining market share, held by other enterprises\n",
        "    remaining = 100 - mkt_share\n",
        "\n",
        "    stack_chart.append(\n",
        "        {\n",
        "            'Industry': industry,\n",
        "            'Enterprise': enterprise,\n",
        "            'Sales': mkt_share,\n",
        "            'Remaining Industry Sales': remaining\n",
        "        }\n",
        "    )\n",
        "stack_df = pd.DataFrame(stack_chart)"
      ],
      "execution_count": 25,
      "outputs": []
    },
    {
      "cell_type": "code",
      "metadata": {
        "colab": {
          "base_uri": "https://localhost:8080/",
          "height": 204
        },
        "id": "iHCUq_nfHSG_",
        "outputId": "07405cbc-402b-4ce7-bc15-dff6e52ab322"
      },
      "source": [
        "stack_df"
      ],
      "execution_count": 26,
      "outputs": [
        {
          "output_type": "execute_result",
          "data": {
            "text/html": [
              "<div>\n",
              "<style scoped>\n",
              "    .dataframe tbody tr th:only-of-type {\n",
              "        vertical-align: middle;\n",
              "    }\n",
              "\n",
              "    .dataframe tbody tr th {\n",
              "        vertical-align: top;\n",
              "    }\n",
              "\n",
              "    .dataframe thead th {\n",
              "        text-align: right;\n",
              "    }\n",
              "</style>\n",
              "<table border=\"1\" class=\"dataframe\">\n",
              "  <thead>\n",
              "    <tr style=\"text-align: right;\">\n",
              "      <th></th>\n",
              "      <th>Industry</th>\n",
              "      <th>Enterprise</th>\n",
              "      <th>Sales</th>\n",
              "      <th>Remaining Industry Sales</th>\n",
              "    </tr>\n",
              "  </thead>\n",
              "  <tbody>\n",
              "    <tr>\n",
              "      <th>0</th>\n",
              "      <td>Manufacturing</td>\n",
              "      <td>Motor vehicles, parts and accessories</td>\n",
              "      <td>17.36</td>\n",
              "      <td>82.64</td>\n",
              "    </tr>\n",
              "    <tr>\n",
              "      <th>1</th>\n",
              "      <td>Medical, Health Care and Welfare</td>\n",
              "      <td>Social insurance organizations</td>\n",
              "      <td>56.21</td>\n",
              "      <td>43.79</td>\n",
              "    </tr>\n",
              "    <tr>\n",
              "      <th>2</th>\n",
              "      <td>Finance and Insurance</td>\n",
              "      <td>Life insurance institutions</td>\n",
              "      <td>39.27</td>\n",
              "      <td>60.73</td>\n",
              "    </tr>\n",
              "    <tr>\n",
              "      <th>3</th>\n",
              "      <td>Wholesale and Retail Trade</td>\n",
              "      <td>Food and beverages</td>\n",
              "      <td>6.63</td>\n",
              "      <td>93.37</td>\n",
              "    </tr>\n",
              "    <tr>\n",
              "      <th>4</th>\n",
              "      <td>Information and Communications</td>\n",
              "      <td>Computer programming and other software services</td>\n",
              "      <td>37.19</td>\n",
              "      <td>62.81</td>\n",
              "    </tr>\n",
              "  </tbody>\n",
              "</table>\n",
              "</div>"
            ],
            "text/plain": [
              "                           Industry  ... Remaining Industry Sales\n",
              "0                     Manufacturing  ...                    82.64\n",
              "1  Medical, Health Care and Welfare  ...                    43.79\n",
              "2             Finance and Insurance  ...                    60.73\n",
              "3        Wholesale and Retail Trade  ...                    93.37\n",
              "4    Information and Communications  ...                    62.81\n",
              "\n",
              "[5 rows x 4 columns]"
            ]
          },
          "metadata": {
            "tags": []
          },
          "execution_count": 26
        }
      ]
    },
    {
      "cell_type": "code",
      "metadata": {
        "colab": {
          "base_uri": "https://localhost:8080/",
          "height": 298
        },
        "id": "goFvDlF7HTy8",
        "outputId": "ee41d226-becc-446a-8d28-3b094c943c0e"
      },
      "source": [
        "stack_df.plot(\n",
        "    x = 'Enterprise',\n",
        "    kind = 'barh',\n",
        "    stacked = True,\n",
        "    title = 'Market Share',\n",
        "    mark_right = True\n",
        ")"
      ],
      "execution_count": 27,
      "outputs": [
        {
          "output_type": "execute_result",
          "data": {
            "text/plain": [
              "<matplotlib.axes._subplots.AxesSubplot at 0x7fe0e7c83780>"
            ]
          },
          "metadata": {
            "tags": []
          },
          "execution_count": 27
        },
        {
          "output_type": "display_data",
          "data": {
            "image/png": "[encoded data removed]",
            "text/plain": [
              "<Figure size 432x288 with 1 Axes>"
            ]
          },
          "metadata": {
            "tags": [],
            "needs_background": "light"
          }
        }
      ]
    }
  ]
}