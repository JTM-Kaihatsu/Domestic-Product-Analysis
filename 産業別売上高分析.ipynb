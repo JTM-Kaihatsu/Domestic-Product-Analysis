{
  "nbformat": 4,
  "nbformat_minor": 0,
  "metadata": {
    "colab": {
      "name": "産業別売上高分析.ipynb",
      "provenance": [],
      "collapsed_sections": [],
      "authorship_tag": "ABX9TyPZLLsh2rmwylCUGjPyKW3D"
    },
    "kernelspec": {
      "name": "python3",
      "display_name": "Python 3"
    }
  },
  "cells": [
    {
      "cell_type": "markdown",
      "metadata": {
        "id": "eu-IoDQbdzTG"
      },
      "source": [
        "# **産業別売上高分析**\n",
        "\n",
        "目的：産業別の理解を図るため、売上高データを視覚化します。\n",
        "\n",
        "使っているデータは日本政府統計ウェブサイトから抽出しました。\n"
      ]
    },
    {
      "cell_type": "markdown",
      "metadata": {
        "id": "nrIZgb4Eh81H"
      },
      "source": [
        "### データ詳細\n",
        "\n",
        "*   情報源：e-stat.go.jp\n",
        "*   情報フォーマット：JSON\n",
        "*   抽出するデータ：経済構造実態調査\n",
        "\n",
        "\n"
      ]
    },
    {
      "cell_type": "markdown",
      "metadata": {
        "id": "7pO39Pze2DoI"
      },
      "source": [
        "### データ抽出"
      ]
    },
    {
      "cell_type": "markdown",
      "metadata": {
        "id": "aIvkGDp7I6h6"
      },
      "source": [
        "しなければならない事：APIの解析方法を理解必要があります"
      ]
    },
    {
      "cell_type": "code",
      "metadata": {
        "id": "71Z-TEbrmmJ-"
      },
      "source": [
        "import requests\n",
        "import pandas as pd"
      ],
      "execution_count": 1,
      "outputs": []
    },
    {
      "cell_type": "code",
      "metadata": {
        "id": "JK-nlQ6HeFD9"
      },
      "source": [
        "try:\n",
        "  # JSONファイルを取り出す\n",
        "  app_id = '1b32db0d63fefc9bc09c7074764b410f16efc222'\n",
        "  url = 'http://api.e-stat.go.jp/rest/3.0/app/json/getStatsData?appId=' + \\\n",
        "  app_id + '&lang=J&statsDataId=0003414037&metaGetFlg=Y&cntGetFlg=N&explanationGetFlg=Y&annotationGetFlg=Y&sectionHeaderFlg=1'\n",
        "  req = requests.get(url)\n",
        "except requests.exceptions.TooManyRedirects:\n",
        "  print(\"URLリダイレクトがループで固まらないよう、リクエストは停止しました。 URLをご確認ください\")\n",
        "  raise SystemExit()\n",
        "except requests.exceptions.RequestException as e:\n",
        "  # 他のエラーが発見\n",
        "  raise SystemExit(e)"
      ],
      "execution_count": 2,
      "outputs": []
    },
    {
      "cell_type": "code",
      "metadata": {
        "colab": {
          "base_uri": "https://localhost:8080/"
        },
        "id": "iZEdRo_5YJOa",
        "outputId": "1fe83228-87d6-462b-b39f-daac5942faf4"
      },
      "source": [
        "# 成功チェック\n",
        "if req.status_code == 200:\n",
        "  print(\"データ抽出成功しました。\")\n",
        "else:\n",
        "  print(\"エラー発見：\" + req.status_code)"
      ],
      "execution_count": 3,
      "outputs": [
        {
          "output_type": "stream",
          "text": [
            "データ抽出成功しました。\n"
          ],
          "name": "stdout"
        }
      ]
    },
    {
      "cell_type": "code",
      "metadata": {
        "id": "0YDQqGarj7TU"
      },
      "source": [
        "req_dict = req.json()\n",
        "# 別のJSONレベルを確認してみる\n",
        "#req_dict['GET_STATS_DATA']"
      ],
      "execution_count": 4,
      "outputs": []
    },
    {
      "cell_type": "code",
      "metadata": {
        "id": "MD-JwbBPt9I5"
      },
      "source": [
        "extr = req_dict['GET_STATS_DATA']['STATISTICAL_DATA']['CLASS_INF']['CLASS_OBJ'][1]"
      ],
      "execution_count": 5,
      "outputs": []
    },
    {
      "cell_type": "code",
      "metadata": {
        "colab": {
          "base_uri": "https://localhost:8080/",
          "height": 419
        },
        "id": "xsdSEybe_SLI",
        "outputId": "27e1a77e-14c9-4547-9372-12c0096de248"
      },
      "source": [
        "pd.json_normalize(extr['CLASS'])"
      ],
      "execution_count": 6,
      "outputs": [
        {
          "output_type": "execute_result",
          "data": {
            "text/html": [
              "<div>\n",
              "<style scoped>\n",
              "    .dataframe tbody tr th:only-of-type {\n",
              "        vertical-align: middle;\n",
              "    }\n",
              "\n",
              "    .dataframe tbody tr th {\n",
              "        vertical-align: top;\n",
              "    }\n",
              "\n",
              "    .dataframe thead th {\n",
              "        text-align: right;\n",
              "    }\n",
              "</style>\n",
              "<table border=\"1\" class=\"dataframe\">\n",
              "  <thead>\n",
              "    <tr style=\"text-align: right;\">\n",
              "      <th></th>\n",
              "      <th>@code</th>\n",
              "      <th>@name</th>\n",
              "      <th>@level</th>\n",
              "      <th>@parentCode</th>\n",
              "    </tr>\n",
              "  </thead>\n",
              "  <tbody>\n",
              "    <tr>\n",
              "      <th>0</th>\n",
              "      <td>00</td>\n",
              "      <td>E～R 産業計</td>\n",
              "      <td>1</td>\n",
              "      <td>NaN</td>\n",
              "    </tr>\n",
              "    <tr>\n",
              "      <th>1</th>\n",
              "      <td>01</td>\n",
              "      <td>E 製造業</td>\n",
              "      <td>2</td>\n",
              "      <td>00</td>\n",
              "    </tr>\n",
              "    <tr>\n",
              "      <th>2</th>\n",
              "      <td>0101</td>\n",
              "      <td>09 食料品製造業</td>\n",
              "      <td>3</td>\n",
              "      <td>01</td>\n",
              "    </tr>\n",
              "    <tr>\n",
              "      <th>3</th>\n",
              "      <td>010101</td>\n",
              "      <td>091 畜産食料品製造業</td>\n",
              "      <td>4</td>\n",
              "      <td>0101</td>\n",
              "    </tr>\n",
              "    <tr>\n",
              "      <th>4</th>\n",
              "      <td>010102</td>\n",
              "      <td>092 水産食料品製造業</td>\n",
              "      <td>4</td>\n",
              "      <td>0101</td>\n",
              "    </tr>\n",
              "    <tr>\n",
              "      <th>...</th>\n",
              "      <td>...</td>\n",
              "      <td>...</td>\n",
              "      <td>...</td>\n",
              "      <td>...</td>\n",
              "    </tr>\n",
              "    <tr>\n",
              "      <th>564</th>\n",
              "      <td>140504</td>\n",
              "      <td>929 他に分類されない事業サービス業</td>\n",
              "      <td>4</td>\n",
              "      <td>1405</td>\n",
              "    </tr>\n",
              "    <tr>\n",
              "      <th>565</th>\n",
              "      <td>1406</td>\n",
              "      <td>95 その他のサービス業</td>\n",
              "      <td>3</td>\n",
              "      <td>14</td>\n",
              "    </tr>\n",
              "    <tr>\n",
              "      <th>566</th>\n",
              "      <td>140601</td>\n",
              "      <td>951 集会場</td>\n",
              "      <td>4</td>\n",
              "      <td>1406</td>\n",
              "    </tr>\n",
              "    <tr>\n",
              "      <th>567</th>\n",
              "      <td>140602</td>\n",
              "      <td>952 と畜場</td>\n",
              "      <td>4</td>\n",
              "      <td>1406</td>\n",
              "    </tr>\n",
              "    <tr>\n",
              "      <th>568</th>\n",
              "      <td>140603</td>\n",
              "      <td>959 他に分類されないサービス業</td>\n",
              "      <td>4</td>\n",
              "      <td>1406</td>\n",
              "    </tr>\n",
              "  </tbody>\n",
              "</table>\n",
              "<p>569 rows × 4 columns</p>\n",
              "</div>"
            ],
            "text/plain": [
              "      @code                @name @level @parentCode\n",
              "0        00              E～R 産業計      1         NaN\n",
              "1        01                E 製造業      2          00\n",
              "2      0101            09 食料品製造業      3          01\n",
              "3    010101         091 畜産食料品製造業      4        0101\n",
              "4    010102         092 水産食料品製造業      4        0101\n",
              "..      ...                  ...    ...         ...\n",
              "564  140504  929 他に分類されない事業サービス業      4        1405\n",
              "565    1406         95 その他のサービス業      3          14\n",
              "566  140601              951 集会場      4        1406\n",
              "567  140602              952 と畜場      4        1406\n",
              "568  140603    959 他に分類されないサービス業      4        1406\n",
              "\n",
              "[569 rows x 4 columns]"
            ]
          },
          "metadata": {
            "tags": []
          },
          "execution_count": 6
        }
      ]
    },
    {
      "cell_type": "markdown",
      "metadata": {
        "id": "xcr85HDGL_ie"
      },
      "source": [
        "API抽出セクション開発はまだ進行中です。完成したら、全処理のセクションを接続します。"
      ]
    },
    {
      "cell_type": "markdown",
      "metadata": {
        "id": "peT3nbzb81Ub"
      },
      "source": [
        "### 前処理"
      ]
    },
    {
      "cell_type": "code",
      "metadata": {
        "id": "4dA2OTL49c9o"
      },
      "source": [
        "import pandas as pd\n",
        "import numpy as np"
      ],
      "execution_count": 7,
      "outputs": []
    },
    {
      "cell_type": "code",
      "metadata": {
        "colab": {
          "base_uri": "https://localhost:8080/",
          "height": 306
        },
        "id": "9lfAbJppXxmU",
        "outputId": "47668779-9579-46f2-ac83-df0619abfa19"
      },
      "source": [
        "# CSVからデータセットを読み込む\n",
        "df = pd.read_csv(\"JP_Industry_2019.csv\")\n",
        "# データセットを覗く\n",
        "df.head()"
      ],
      "execution_count": 8,
      "outputs": [
        {
          "output_type": "execute_result",
          "data": {
            "text/html": [
              "<div>\n",
              "<style scoped>\n",
              "    .dataframe tbody tr th:only-of-type {\n",
              "        vertical-align: middle;\n",
              "    }\n",
              "\n",
              "    .dataframe tbody tr th {\n",
              "        vertical-align: top;\n",
              "    }\n",
              "\n",
              "    .dataframe thead th {\n",
              "        text-align: right;\n",
              "    }\n",
              "</style>\n",
              "<table border=\"1\" class=\"dataframe\">\n",
              "  <thead>\n",
              "    <tr style=\"text-align: right;\">\n",
              "      <th></th>\n",
              "      <th>地域 コード</th>\n",
              "      <th>地域</th>\n",
              "      <th>時間軸 コード</th>\n",
              "      <th>時間軸</th>\n",
              "      <th>企業産業分類 コード</th>\n",
              "      <th>企業産業分類</th>\n",
              "      <th>/表章項目</th>\n",
              "      <th>企業等数</th>\n",
              "      <th>売上（収入）金額【百万円】</th>\n",
              "      <th>企業等数.1</th>\n",
              "      <th>売上（収入）金額【百万円】.1</th>\n",
              "      <th>企業等数.2</th>\n",
              "      <th>売上（収入）金額【百万円】.2</th>\n",
              "    </tr>\n",
              "  </thead>\n",
              "  <tbody>\n",
              "    <tr>\n",
              "      <th>0</th>\n",
              "      <td>0</td>\n",
              "      <td>全国</td>\n",
              "      <td>2019000000</td>\n",
              "      <td>2019年</td>\n",
              "      <td>0</td>\n",
              "      <td>E～R 産業計</td>\n",
              "      <td>NaN</td>\n",
              "      <td>1,333,501</td>\n",
              "      <td>1,520,656,648</td>\n",
              "      <td>1,204,653</td>\n",
              "      <td>1,328,807,082</td>\n",
              "      <td>128,848</td>\n",
              "      <td>191,849,566</td>\n",
              "    </tr>\n",
              "    <tr>\n",
              "      <th>1</th>\n",
              "      <td>0</td>\n",
              "      <td>全国</td>\n",
              "      <td>2019000000</td>\n",
              "      <td>2019年</td>\n",
              "      <td>1</td>\n",
              "      <td>E 製造業</td>\n",
              "      <td>NaN</td>\n",
              "      <td>204,017</td>\n",
              "      <td>413,224,430</td>\n",
              "      <td>202,019</td>\n",
              "      <td>412,385,485</td>\n",
              "      <td>1,998</td>\n",
              "      <td>838,945</td>\n",
              "    </tr>\n",
              "    <tr>\n",
              "      <th>2</th>\n",
              "      <td>0</td>\n",
              "      <td>全国</td>\n",
              "      <td>2019000000</td>\n",
              "      <td>2019年</td>\n",
              "      <td>101</td>\n",
              "      <td>09 食料品製造業</td>\n",
              "      <td>NaN</td>\n",
              "      <td>20,670</td>\n",
              "      <td>35,748,641</td>\n",
              "      <td>20,087</td>\n",
              "      <td>35,405,024</td>\n",
              "      <td>583</td>\n",
              "      <td>343,616</td>\n",
              "    </tr>\n",
              "    <tr>\n",
              "      <th>3</th>\n",
              "      <td>0</td>\n",
              "      <td>全国</td>\n",
              "      <td>2019000000</td>\n",
              "      <td>2019年</td>\n",
              "      <td>10101</td>\n",
              "      <td>091 畜産食料品製造業</td>\n",
              "      <td>NaN</td>\n",
              "      <td>1,913</td>\n",
              "      <td>9,991,250</td>\n",
              "      <td>1,828</td>\n",
              "      <td>9,764,837</td>\n",
              "      <td>85</td>\n",
              "      <td>226,413</td>\n",
              "    </tr>\n",
              "    <tr>\n",
              "      <th>4</th>\n",
              "      <td>0</td>\n",
              "      <td>全国</td>\n",
              "      <td>2019000000</td>\n",
              "      <td>2019年</td>\n",
              "      <td>10102</td>\n",
              "      <td>092 水産食料品製造業</td>\n",
              "      <td>NaN</td>\n",
              "      <td>4,422</td>\n",
              "      <td>4,664,091</td>\n",
              "      <td>4,341</td>\n",
              "      <td>4,643,805</td>\n",
              "      <td>81</td>\n",
              "      <td>20,287</td>\n",
              "    </tr>\n",
              "  </tbody>\n",
              "</table>\n",
              "</div>"
            ],
            "text/plain": [
              "   地域 コード  地域     時間軸 コード  ... 売上（収入）金額【百万円】.1   企業等数.2 売上（収入）金額【百万円】.2\n",
              "0       0  全国  2019000000  ...   1,328,807,082  128,848     191,849,566\n",
              "1       0  全国  2019000000  ...     412,385,485    1,998         838,945\n",
              "2       0  全国  2019000000  ...      35,405,024      583         343,616\n",
              "3       0  全国  2019000000  ...       9,764,837       85         226,413\n",
              "4       0  全国  2019000000  ...       4,643,805       81          20,287\n",
              "\n",
              "[5 rows x 13 columns]"
            ]
          },
          "metadata": {
            "tags": []
          },
          "execution_count": 8
        }
      ]
    },
    {
      "cell_type": "code",
      "metadata": {
        "colab": {
          "base_uri": "https://localhost:8080/"
        },
        "id": "6KPvphNn_R3N",
        "outputId": "a7cdb3f8-e87e-43eb-946f-b92f47febefd"
      },
      "source": [
        "# データ型の設定を確認\n",
        "print(df.isna().sum())\n",
        "print(df.dtypes)\n",
        "\n",
        "# 文字列へのキャスト\n",
        "df['企業産業分類'] = df['企業産業分類'].astype(str)"
      ],
      "execution_count": 9,
      "outputs": [
        {
          "output_type": "stream",
          "text": [
            "地域 コード               0\n",
            "地域                   0\n",
            "時間軸 コード              0\n",
            "時間軸                  0\n",
            "企業産業分類 コード           0\n",
            "企業産業分類               0\n",
            "/表章項目              569\n",
            "企業等数                 0\n",
            "売上（収入）金額【百万円】        0\n",
            "企業等数.1               0\n",
            "売上（収入）金額【百万円】.1      0\n",
            "企業等数.2               0\n",
            "売上（収入）金額【百万円】.2      0\n",
            "dtype: int64\n",
            "地域 コード               int64\n",
            "地域                  object\n",
            "時間軸 コード              int64\n",
            "時間軸                 object\n",
            "企業産業分類 コード           int64\n",
            "企業産業分類              object\n",
            "/表章項目              float64\n",
            "企業等数                object\n",
            "売上（収入）金額【百万円】       object\n",
            "企業等数.1              object\n",
            "売上（収入）金額【百万円】.1     object\n",
            "企業等数.2              object\n",
            "売上（収入）金額【百万円】.2     object\n",
            "dtype: object\n"
          ],
          "name": "stdout"
        }
      ]
    },
    {
      "cell_type": "code",
      "metadata": {
        "colab": {
          "base_uri": "https://localhost:8080/",
          "height": 204
        },
        "id": "Zeex_53V9pmo",
        "outputId": "b528414f-f035-452d-d658-c22b6a7a3d8b"
      },
      "source": [
        "# 注目データフレームの列:\n",
        "# 企業産業分類, 企業等数, 売上（収入）金額【百万円】\n",
        "# 他の列が会社企業と会社以外の法人の区別をつけました\n",
        "df = df[['企業産業分類', '企業等数', '売上（収入）金額【百万円】']]\n",
        "df.head()"
      ],
      "execution_count": 10,
      "outputs": [
        {
          "output_type": "execute_result",
          "data": {
            "text/html": [
              "<div>\n",
              "<style scoped>\n",
              "    .dataframe tbody tr th:only-of-type {\n",
              "        vertical-align: middle;\n",
              "    }\n",
              "\n",
              "    .dataframe tbody tr th {\n",
              "        vertical-align: top;\n",
              "    }\n",
              "\n",
              "    .dataframe thead th {\n",
              "        text-align: right;\n",
              "    }\n",
              "</style>\n",
              "<table border=\"1\" class=\"dataframe\">\n",
              "  <thead>\n",
              "    <tr style=\"text-align: right;\">\n",
              "      <th></th>\n",
              "      <th>企業産業分類</th>\n",
              "      <th>企業等数</th>\n",
              "      <th>売上（収入）金額【百万円】</th>\n",
              "    </tr>\n",
              "  </thead>\n",
              "  <tbody>\n",
              "    <tr>\n",
              "      <th>0</th>\n",
              "      <td>E～R 産業計</td>\n",
              "      <td>1,333,501</td>\n",
              "      <td>1,520,656,648</td>\n",
              "    </tr>\n",
              "    <tr>\n",
              "      <th>1</th>\n",
              "      <td>E 製造業</td>\n",
              "      <td>204,017</td>\n",
              "      <td>413,224,430</td>\n",
              "    </tr>\n",
              "    <tr>\n",
              "      <th>2</th>\n",
              "      <td>09 食料品製造業</td>\n",
              "      <td>20,670</td>\n",
              "      <td>35,748,641</td>\n",
              "    </tr>\n",
              "    <tr>\n",
              "      <th>3</th>\n",
              "      <td>091 畜産食料品製造業</td>\n",
              "      <td>1,913</td>\n",
              "      <td>9,991,250</td>\n",
              "    </tr>\n",
              "    <tr>\n",
              "      <th>4</th>\n",
              "      <td>092 水産食料品製造業</td>\n",
              "      <td>4,422</td>\n",
              "      <td>4,664,091</td>\n",
              "    </tr>\n",
              "  </tbody>\n",
              "</table>\n",
              "</div>"
            ],
            "text/plain": [
              "         企業産業分類       企業等数  売上（収入）金額【百万円】\n",
              "0       E～R 産業計  1,333,501  1,520,656,648\n",
              "1         E 製造業    204,017    413,224,430\n",
              "2     09 食料品製造業     20,670     35,748,641\n",
              "3  091 畜産食料品製造業      1,913      9,991,250\n",
              "4  092 水産食料品製造業      4,422      4,664,091"
            ]
          },
          "metadata": {
            "tags": []
          },
          "execution_count": 10
        }
      ]
    },
    {
      "cell_type": "code",
      "metadata": {
        "colab": {
          "base_uri": "https://localhost:8080/",
          "height": 204
        },
        "id": "KElNO_GENYZl",
        "outputId": "dceefe2f-fdc9-4998-8b56-7efd57965f95"
      },
      "source": [
        "# データセットにはトップレベルの行がありますが、それは使用しません\n",
        "df = df[1:]\n",
        "\n",
        "# もっとシンプルな列名をつける\n",
        "df.columns = [\"産業\", \"企業等数\", \"売上\"]\n",
        "df.head()"
      ],
      "execution_count": 11,
      "outputs": [
        {
          "output_type": "execute_result",
          "data": {
            "text/html": [
              "<div>\n",
              "<style scoped>\n",
              "    .dataframe tbody tr th:only-of-type {\n",
              "        vertical-align: middle;\n",
              "    }\n",
              "\n",
              "    .dataframe tbody tr th {\n",
              "        vertical-align: top;\n",
              "    }\n",
              "\n",
              "    .dataframe thead th {\n",
              "        text-align: right;\n",
              "    }\n",
              "</style>\n",
              "<table border=\"1\" class=\"dataframe\">\n",
              "  <thead>\n",
              "    <tr style=\"text-align: right;\">\n",
              "      <th></th>\n",
              "      <th>産業</th>\n",
              "      <th>企業等数</th>\n",
              "      <th>売上</th>\n",
              "    </tr>\n",
              "  </thead>\n",
              "  <tbody>\n",
              "    <tr>\n",
              "      <th>1</th>\n",
              "      <td>E 製造業</td>\n",
              "      <td>204,017</td>\n",
              "      <td>413,224,430</td>\n",
              "    </tr>\n",
              "    <tr>\n",
              "      <th>2</th>\n",
              "      <td>09 食料品製造業</td>\n",
              "      <td>20,670</td>\n",
              "      <td>35,748,641</td>\n",
              "    </tr>\n",
              "    <tr>\n",
              "      <th>3</th>\n",
              "      <td>091 畜産食料品製造業</td>\n",
              "      <td>1,913</td>\n",
              "      <td>9,991,250</td>\n",
              "    </tr>\n",
              "    <tr>\n",
              "      <th>4</th>\n",
              "      <td>092 水産食料品製造業</td>\n",
              "      <td>4,422</td>\n",
              "      <td>4,664,091</td>\n",
              "    </tr>\n",
              "    <tr>\n",
              "      <th>5</th>\n",
              "      <td>093 野菜缶詰・果実缶詰・農産保存食料品製造業</td>\n",
              "      <td>1,433</td>\n",
              "      <td>856,417</td>\n",
              "    </tr>\n",
              "  </tbody>\n",
              "</table>\n",
              "</div>"
            ],
            "text/plain": [
              "                         産業     企業等数           売上\n",
              "1                     E 製造業  204,017  413,224,430\n",
              "2                 09 食料品製造業   20,670   35,748,641\n",
              "3              091 畜産食料品製造業    1,913    9,991,250\n",
              "4              092 水産食料品製造業    4,422    4,664,091\n",
              "5  093 野菜缶詰・果実缶詰・農産保存食料品製造業    1,433      856,417"
            ]
          },
          "metadata": {
            "tags": []
          },
          "execution_count": 11
        }
      ]
    },
    {
      "cell_type": "markdown",
      "metadata": {
        "id": "TpcpTcgQxzRn"
      },
      "source": [
        "メモ：データセットから「製氷業」（16行目）と「たばこ製造業」（17行目）の情報が欠落しています．たばこ製造業の企業等数は一社だから、日本たばこ産業株式会社（JT）は日本企業の中で唯一、大きなシェアを持つ企業です。そこで、入力用にJTを選択します。JTの財務ハイライト（https://www.jti.co.jp/investors/individual/finance/index.html）によると、2019外販たばこ製品売上収益が6,115億円と\t自社たばこ製品売上収益5,689億円です。\n",
        "\n",
        "「飲料・たばこ・飼料製造業」のサブセクションの集計がどれくらいかわかっているから、「製氷業」の残り行の金額は1,753.438億円を推測することができます。\n"
      ]
    },
    {
      "cell_type": "code",
      "metadata": {
        "colab": {
          "base_uri": "https://localhost:8080/",
          "height": 111
        },
        "id": "ZA3jaWbB2Yof",
        "outputId": "d5c924b0-91a2-4663-a316-361941f1ef1f"
      },
      "source": [
        "df[df['売上'] == 'X']"
      ],
      "execution_count": 12,
      "outputs": [
        {
          "output_type": "execute_result",
          "data": {
            "text/html": [
              "<div>\n",
              "<style scoped>\n",
              "    .dataframe tbody tr th:only-of-type {\n",
              "        vertical-align: middle;\n",
              "    }\n",
              "\n",
              "    .dataframe tbody tr th {\n",
              "        vertical-align: top;\n",
              "    }\n",
              "\n",
              "    .dataframe thead th {\n",
              "        text-align: right;\n",
              "    }\n",
              "</style>\n",
              "<table border=\"1\" class=\"dataframe\">\n",
              "  <thead>\n",
              "    <tr style=\"text-align: right;\">\n",
              "      <th></th>\n",
              "      <th>産業</th>\n",
              "      <th>企業等数</th>\n",
              "      <th>売上</th>\n",
              "    </tr>\n",
              "  </thead>\n",
              "  <tbody>\n",
              "    <tr>\n",
              "      <th>16</th>\n",
              "      <td>104 製氷業</td>\n",
              "      <td>128</td>\n",
              "      <td>X</td>\n",
              "    </tr>\n",
              "    <tr>\n",
              "      <th>17</th>\n",
              "      <td>105 たばこ製造業</td>\n",
              "      <td>1</td>\n",
              "      <td>X</td>\n",
              "    </tr>\n",
              "  </tbody>\n",
              "</table>\n",
              "</div>"
            ],
            "text/plain": [
              "            産業 企業等数 売上\n",
              "16     104 製氷業  128  X\n",
              "17  105 たばこ製造業    1  X"
            ]
          },
          "metadata": {
            "tags": []
          },
          "execution_count": 12
        }
      ]
    },
    {
      "cell_type": "code",
      "metadata": {
        "id": "GrkawkwChknr"
      },
      "source": [
        "# 産業と企業等数列の書式化\n",
        "df['売上'].replace(',','', regex=True, inplace=True)\n",
        "df['企業等数'].replace(',','', regex=True, inplace=True)\n",
        "\n",
        "# 入力方法のために上記のセルを参照してください\n",
        "df.at[16, '売上'] = '1753438'\n",
        "df.at[17, '売上'] = '1180400'\n",
        "\n",
        "# 残り列項目をintでキャストする\n",
        "df['売上'] = df['売上'].astype('int64')\n",
        "df['企業等数'] = df['企業等数'].astype('int64')"
      ],
      "execution_count": 13,
      "outputs": []
    },
    {
      "cell_type": "markdown",
      "metadata": {
        "id": "SAbmzcnhvrN0"
      },
      "source": [
        "このデータセットには、産業とサブ産業の行があることに注目してください。この行は並べ替えや集計の邪魔になるから、行ラベルにします。"
      ]
    },
    {
      "cell_type": "code",
      "metadata": {
        "id": "sgoiPQaKHYgO"
      },
      "source": [
        "def CategoryLabel(dataset_df, mask, prefix_len, extract_col_name, category_col_name):\n",
        "  # データを準備。オリジナルはコピーの影響を与えないようにしなければならない\n",
        "  updated_df = dataset_df.copy(deep = True)\n",
        "  category_df = updated_df.loc[mask]\n",
        "  names = category_df[extract_col_name].unique()\n",
        "\n",
        "  categories = []\n",
        "  level_labels = []\n",
        "  # カテゴリをゲットする\n",
        "  for s in names:\n",
        "    level_labels.append(s)\n",
        "    #a = s.split(\" \")\n",
        "    # レベル接頭辞を削除\n",
        "    a = (''.join([i for i in s[prefix_len+1:]]))\n",
        "    categories.append(a.lstrip(' '))\n",
        "\n",
        "  indexes = []\n",
        "  # 行にラベルを付けるため、インデックスを取得する\n",
        "  index_start_points = [i-1 for i in list(category_df.index.values)]\n",
        "  indexes = index_start_points[1:]\n",
        "  indexes.append(len(updated_df)+1)\n",
        "\n",
        "  # 新データフレームを作成して,行で入力する\n",
        "  updated_df[category_col_name] = \"\"\n",
        "  i_target = 0\n",
        "\n",
        "  i_target = indexes.pop(0)\n",
        "  industry = categories.pop(0)\n",
        "  # 一つ加えなければならないと最後の行に到達しない\n",
        "  for i in range(0, len(updated_df)+1):\n",
        "    if i == i_target+1 and len(indexes) != 0:\n",
        "      i_target = indexes.pop(0)\n",
        "      industry = categories.pop(0)\n",
        "    updated_df.at[i, category_col_name] = industry\n",
        "    \n",
        "  # ラベル行を削除する\n",
        "  updated_df = updated_df[~updated_df[extract_col_name].isin(level_labels)]\n",
        "  updated_df.reset_index(inplace = True, drop = True)\n",
        "  # Pandasバグの可能性かも：行が誤って作成されました（行インデックス０）\n",
        "  updated_df.drop(len(updated_df)-1, inplace = True)\n",
        "  \n",
        "  # 次のprint文にテストに使用します\n",
        "  # 行数はカテゴリの数と一致する必要があります\n",
        "  #print('デバッグ: カテゴリの数: %d // 削除された行: %d' % (len(names), len(dataset_df) - len(updated_df)))\n",
        "  return updated_df"
      ],
      "execution_count": 14,
      "outputs": []
    },
    {
      "cell_type": "code",
      "metadata": {
        "colab": {
          "base_uri": "https://localhost:8080/",
          "height": 419
        },
        "id": "H79rZ1JmKn3C",
        "outputId": "524a21a8-ec9a-4a4d-b821-759e7e54eb11"
      },
      "source": [
        "# メイン産業用\n",
        "\n",
        "# メインとサブセクションを示す\n",
        "temp_series = df['産業'].str.split(' ', expand = True)[0]\n",
        "# 産業の接頭辞は一文字だけ\n",
        "mask = (temp_series.str.len() == 1)\n",
        "# ラベル付けるためにメソッド呼び出す\n",
        "ind_labeled_df = CategoryLabel(df, mask, 1, \"産業\", \"主な産業\")\n",
        "ind_labeled_df"
      ],
      "execution_count": 15,
      "outputs": [
        {
          "output_type": "execute_result",
          "data": {
            "text/html": [
              "<div>\n",
              "<style scoped>\n",
              "    .dataframe tbody tr th:only-of-type {\n",
              "        vertical-align: middle;\n",
              "    }\n",
              "\n",
              "    .dataframe tbody tr th {\n",
              "        vertical-align: top;\n",
              "    }\n",
              "\n",
              "    .dataframe thead th {\n",
              "        text-align: right;\n",
              "    }\n",
              "</style>\n",
              "<table border=\"1\" class=\"dataframe\">\n",
              "  <thead>\n",
              "    <tr style=\"text-align: right;\">\n",
              "      <th></th>\n",
              "      <th>産業</th>\n",
              "      <th>企業等数</th>\n",
              "      <th>売上</th>\n",
              "      <th>主な産業</th>\n",
              "    </tr>\n",
              "  </thead>\n",
              "  <tbody>\n",
              "    <tr>\n",
              "      <th>0</th>\n",
              "      <td>09 食料品製造業</td>\n",
              "      <td>20670.0</td>\n",
              "      <td>35748641.0</td>\n",
              "      <td>製造業</td>\n",
              "    </tr>\n",
              "    <tr>\n",
              "      <th>1</th>\n",
              "      <td>091 畜産食料品製造業</td>\n",
              "      <td>1913.0</td>\n",
              "      <td>9991250.0</td>\n",
              "      <td>製造業</td>\n",
              "    </tr>\n",
              "    <tr>\n",
              "      <th>2</th>\n",
              "      <td>092 水産食料品製造業</td>\n",
              "      <td>4422.0</td>\n",
              "      <td>4664091.0</td>\n",
              "      <td>製造業</td>\n",
              "    </tr>\n",
              "    <tr>\n",
              "      <th>3</th>\n",
              "      <td>093 野菜缶詰・果実缶詰・農産保存食料品製造業</td>\n",
              "      <td>1433.0</td>\n",
              "      <td>856417.0</td>\n",
              "      <td>製造業</td>\n",
              "    </tr>\n",
              "    <tr>\n",
              "      <th>4</th>\n",
              "      <td>094 調味料製造業</td>\n",
              "      <td>1459.0</td>\n",
              "      <td>2822390.0</td>\n",
              "      <td>製造業</td>\n",
              "    </tr>\n",
              "    <tr>\n",
              "      <th>...</th>\n",
              "      <td>...</td>\n",
              "      <td>...</td>\n",
              "      <td>...</td>\n",
              "      <td>...</td>\n",
              "    </tr>\n",
              "    <tr>\n",
              "      <th>549</th>\n",
              "      <td>929 他に分類されない事業サービス業</td>\n",
              "      <td>17189.0</td>\n",
              "      <td>10685850.0</td>\n",
              "      <td>サービス業（他に分類されないもの）</td>\n",
              "    </tr>\n",
              "    <tr>\n",
              "      <th>550</th>\n",
              "      <td>95 その他のサービス業</td>\n",
              "      <td>946.0</td>\n",
              "      <td>388067.0</td>\n",
              "      <td>サービス業（他に分類されないもの）</td>\n",
              "    </tr>\n",
              "    <tr>\n",
              "      <th>551</th>\n",
              "      <td>951 集会場</td>\n",
              "      <td>744.0</td>\n",
              "      <td>219329.0</td>\n",
              "      <td>サービス業（他に分類されないもの）</td>\n",
              "    </tr>\n",
              "    <tr>\n",
              "      <th>552</th>\n",
              "      <td>952 と畜場</td>\n",
              "      <td>70.0</td>\n",
              "      <td>46919.0</td>\n",
              "      <td>サービス業（他に分類されないもの）</td>\n",
              "    </tr>\n",
              "    <tr>\n",
              "      <th>553</th>\n",
              "      <td>959 他に分類されないサービス業</td>\n",
              "      <td>132.0</td>\n",
              "      <td>121819.0</td>\n",
              "      <td>サービス業（他に分類されないもの）</td>\n",
              "    </tr>\n",
              "  </tbody>\n",
              "</table>\n",
              "<p>554 rows × 4 columns</p>\n",
              "</div>"
            ],
            "text/plain": [
              "                           産業     企業等数          売上               主な産業\n",
              "0                   09 食料品製造業  20670.0  35748641.0                製造業\n",
              "1                091 畜産食料品製造業   1913.0   9991250.0                製造業\n",
              "2                092 水産食料品製造業   4422.0   4664091.0                製造業\n",
              "3    093 野菜缶詰・果実缶詰・農産保存食料品製造業   1433.0    856417.0                製造業\n",
              "4                  094 調味料製造業   1459.0   2822390.0                製造業\n",
              "..                        ...      ...         ...                ...\n",
              "549       929 他に分類されない事業サービス業  17189.0  10685850.0  サービス業（他に分類されないもの）\n",
              "550              95 その他のサービス業    946.0    388067.0  サービス業（他に分類されないもの）\n",
              "551                   951 集会場    744.0    219329.0  サービス業（他に分類されないもの）\n",
              "552                   952 と畜場     70.0     46919.0  サービス業（他に分類されないもの）\n",
              "553         959 他に分類されないサービス業    132.0    121819.0  サービス業（他に分類されないもの）\n",
              "\n",
              "[554 rows x 4 columns]"
            ]
          },
          "metadata": {
            "tags": []
          },
          "execution_count": 15
        }
      ]
    },
    {
      "cell_type": "code",
      "metadata": {
        "colab": {
          "base_uri": "https://localhost:8080/",
          "height": 419
        },
        "id": "8rG4dS5QiADc",
        "outputId": "1c0ac127-1d4f-448d-e4a8-8261dfe43a49"
      },
      "source": [
        "# サブ産業用\n",
        "\n",
        "# 産業の接頭辞は二文字だけ\n",
        "temp_series = ind_labeled_df['産業'].str.split(' ', expand = True)[0]\n",
        "mask = (temp_series.str.len() == 2)\n",
        "\n",
        "# ラベル付けるためにメソッド呼び出す\n",
        "labeled_df = CategoryLabel(ind_labeled_df, mask, 2, \"産業\", \"サブ産業\")\n",
        "labeled_df"
      ],
      "execution_count": 16,
      "outputs": [
        {
          "output_type": "execute_result",
          "data": {
            "text/html": [
              "<div>\n",
              "<style scoped>\n",
              "    .dataframe tbody tr th:only-of-type {\n",
              "        vertical-align: middle;\n",
              "    }\n",
              "\n",
              "    .dataframe tbody tr th {\n",
              "        vertical-align: top;\n",
              "    }\n",
              "\n",
              "    .dataframe thead th {\n",
              "        text-align: right;\n",
              "    }\n",
              "</style>\n",
              "<table border=\"1\" class=\"dataframe\">\n",
              "  <thead>\n",
              "    <tr style=\"text-align: right;\">\n",
              "      <th></th>\n",
              "      <th>産業</th>\n",
              "      <th>企業等数</th>\n",
              "      <th>売上</th>\n",
              "      <th>主な産業</th>\n",
              "      <th>サブ産業</th>\n",
              "    </tr>\n",
              "  </thead>\n",
              "  <tbody>\n",
              "    <tr>\n",
              "      <th>0</th>\n",
              "      <td>091 畜産食料品製造業</td>\n",
              "      <td>1913.0</td>\n",
              "      <td>9991250.0</td>\n",
              "      <td>製造業</td>\n",
              "      <td>食料品製造業</td>\n",
              "    </tr>\n",
              "    <tr>\n",
              "      <th>1</th>\n",
              "      <td>092 水産食料品製造業</td>\n",
              "      <td>4422.0</td>\n",
              "      <td>4664091.0</td>\n",
              "      <td>製造業</td>\n",
              "      <td>食料品製造業</td>\n",
              "    </tr>\n",
              "    <tr>\n",
              "      <th>2</th>\n",
              "      <td>093 野菜缶詰・果実缶詰・農産保存食料品製造業</td>\n",
              "      <td>1433.0</td>\n",
              "      <td>856417.0</td>\n",
              "      <td>製造業</td>\n",
              "      <td>食料品製造業</td>\n",
              "    </tr>\n",
              "    <tr>\n",
              "      <th>3</th>\n",
              "      <td>094 調味料製造業</td>\n",
              "      <td>1459.0</td>\n",
              "      <td>2822390.0</td>\n",
              "      <td>製造業</td>\n",
              "      <td>食料品製造業</td>\n",
              "    </tr>\n",
              "    <tr>\n",
              "      <th>4</th>\n",
              "      <td>095 糖類製造業</td>\n",
              "      <td>93.0</td>\n",
              "      <td>560548.0</td>\n",
              "      <td>製造業</td>\n",
              "      <td>食料品製造業</td>\n",
              "    </tr>\n",
              "    <tr>\n",
              "      <th>...</th>\n",
              "      <td>...</td>\n",
              "      <td>...</td>\n",
              "      <td>...</td>\n",
              "      <td>...</td>\n",
              "      <td>...</td>\n",
              "    </tr>\n",
              "    <tr>\n",
              "      <th>464</th>\n",
              "      <td>923 警備業</td>\n",
              "      <td>3522.0</td>\n",
              "      <td>2487820.0</td>\n",
              "      <td>サービス業（他に分類されないもの）</td>\n",
              "      <td>その他の事業サービス業</td>\n",
              "    </tr>\n",
              "    <tr>\n",
              "      <th>465</th>\n",
              "      <td>929 他に分類されない事業サービス業</td>\n",
              "      <td>17189.0</td>\n",
              "      <td>10685850.0</td>\n",
              "      <td>サービス業（他に分類されないもの）</td>\n",
              "      <td>その他の事業サービス業</td>\n",
              "    </tr>\n",
              "    <tr>\n",
              "      <th>466</th>\n",
              "      <td>951 集会場</td>\n",
              "      <td>744.0</td>\n",
              "      <td>219329.0</td>\n",
              "      <td>サービス業（他に分類されないもの）</td>\n",
              "      <td>その他のサービス業</td>\n",
              "    </tr>\n",
              "    <tr>\n",
              "      <th>467</th>\n",
              "      <td>952 と畜場</td>\n",
              "      <td>70.0</td>\n",
              "      <td>46919.0</td>\n",
              "      <td>サービス業（他に分類されないもの）</td>\n",
              "      <td>その他のサービス業</td>\n",
              "    </tr>\n",
              "    <tr>\n",
              "      <th>468</th>\n",
              "      <td>959 他に分類されないサービス業</td>\n",
              "      <td>132.0</td>\n",
              "      <td>121819.0</td>\n",
              "      <td>サービス業（他に分類されないもの）</td>\n",
              "      <td>その他のサービス業</td>\n",
              "    </tr>\n",
              "  </tbody>\n",
              "</table>\n",
              "<p>469 rows × 5 columns</p>\n",
              "</div>"
            ],
            "text/plain": [
              "                           産業     企業等数  ...               主な産業         サブ産業\n",
              "0                091 畜産食料品製造業   1913.0  ...                製造業       食料品製造業\n",
              "1                092 水産食料品製造業   4422.0  ...                製造業       食料品製造業\n",
              "2    093 野菜缶詰・果実缶詰・農産保存食料品製造業   1433.0  ...                製造業       食料品製造業\n",
              "3                  094 調味料製造業   1459.0  ...                製造業       食料品製造業\n",
              "4                   095 糖類製造業     93.0  ...                製造業       食料品製造業\n",
              "..                        ...      ...  ...                ...          ...\n",
              "464                   923 警備業   3522.0  ...  サービス業（他に分類されないもの）  その他の事業サービス業\n",
              "465       929 他に分類されない事業サービス業  17189.0  ...  サービス業（他に分類されないもの）  その他の事業サービス業\n",
              "466                   951 集会場    744.0  ...  サービス業（他に分類されないもの）    その他のサービス業\n",
              "467                   952 と畜場     70.0  ...  サービス業（他に分類されないもの）    その他のサービス業\n",
              "468         959 他に分類されないサービス業    132.0  ...  サービス業（他に分類されないもの）    その他のサービス業\n",
              "\n",
              "[469 rows x 5 columns]"
            ]
          },
          "metadata": {
            "tags": []
          },
          "execution_count": 16
        }
      ]
    },
    {
      "cell_type": "code",
      "metadata": {
        "id": "pXlDIzZ1DLx-"
      },
      "source": [
        "# レベル接頭辞を削除\n",
        "def RemovePrefix(s):\n",
        "    a = s.split(\" \")\n",
        "    return (''.join([i for i in s[4:]]))\n",
        "\n",
        "labeled_df['産業'] = labeled_df['産業'].apply(RemovePrefix)"
      ],
      "execution_count": 17,
      "outputs": []
    },
    {
      "cell_type": "code",
      "metadata": {
        "id": "3khmJ7PPM4AK",
        "colab": {
          "base_uri": "https://localhost:8080/",
          "height": 419
        },
        "outputId": "f2717974-dd26-40e7-a7dd-062e5e62df90"
      },
      "source": [
        "# 一企業当たりの平均売上高を算出する\n",
        "\n",
        "labeled_df['売上高の平均'] = labeled_df['売上']/labeled_df['企業等数']\n",
        "labeled_df['売上高の平均'] = labeled_df['売上高の平均'].astype(np.int64)\n",
        "labeled_df"
      ],
      "execution_count": 18,
      "outputs": [
        {
          "output_type": "execute_result",
          "data": {
            "text/html": [
              "<div>\n",
              "<style scoped>\n",
              "    .dataframe tbody tr th:only-of-type {\n",
              "        vertical-align: middle;\n",
              "    }\n",
              "\n",
              "    .dataframe tbody tr th {\n",
              "        vertical-align: top;\n",
              "    }\n",
              "\n",
              "    .dataframe thead th {\n",
              "        text-align: right;\n",
              "    }\n",
              "</style>\n",
              "<table border=\"1\" class=\"dataframe\">\n",
              "  <thead>\n",
              "    <tr style=\"text-align: right;\">\n",
              "      <th></th>\n",
              "      <th>産業</th>\n",
              "      <th>企業等数</th>\n",
              "      <th>売上</th>\n",
              "      <th>主な産業</th>\n",
              "      <th>サブ産業</th>\n",
              "      <th>売上高の平均</th>\n",
              "    </tr>\n",
              "  </thead>\n",
              "  <tbody>\n",
              "    <tr>\n",
              "      <th>0</th>\n",
              "      <td>畜産食料品製造業</td>\n",
              "      <td>1913.0</td>\n",
              "      <td>9991250.0</td>\n",
              "      <td>製造業</td>\n",
              "      <td>食料品製造業</td>\n",
              "      <td>5222</td>\n",
              "    </tr>\n",
              "    <tr>\n",
              "      <th>1</th>\n",
              "      <td>水産食料品製造業</td>\n",
              "      <td>4422.0</td>\n",
              "      <td>4664091.0</td>\n",
              "      <td>製造業</td>\n",
              "      <td>食料品製造業</td>\n",
              "      <td>1054</td>\n",
              "    </tr>\n",
              "    <tr>\n",
              "      <th>2</th>\n",
              "      <td>野菜缶詰・果実缶詰・農産保存食料品製造業</td>\n",
              "      <td>1433.0</td>\n",
              "      <td>856417.0</td>\n",
              "      <td>製造業</td>\n",
              "      <td>食料品製造業</td>\n",
              "      <td>597</td>\n",
              "    </tr>\n",
              "    <tr>\n",
              "      <th>3</th>\n",
              "      <td>調味料製造業</td>\n",
              "      <td>1459.0</td>\n",
              "      <td>2822390.0</td>\n",
              "      <td>製造業</td>\n",
              "      <td>食料品製造業</td>\n",
              "      <td>1934</td>\n",
              "    </tr>\n",
              "    <tr>\n",
              "      <th>4</th>\n",
              "      <td>糖類製造業</td>\n",
              "      <td>93.0</td>\n",
              "      <td>560548.0</td>\n",
              "      <td>製造業</td>\n",
              "      <td>食料品製造業</td>\n",
              "      <td>6027</td>\n",
              "    </tr>\n",
              "    <tr>\n",
              "      <th>...</th>\n",
              "      <td>...</td>\n",
              "      <td>...</td>\n",
              "      <td>...</td>\n",
              "      <td>...</td>\n",
              "      <td>...</td>\n",
              "      <td>...</td>\n",
              "    </tr>\n",
              "    <tr>\n",
              "      <th>464</th>\n",
              "      <td>警備業</td>\n",
              "      <td>3522.0</td>\n",
              "      <td>2487820.0</td>\n",
              "      <td>サービス業（他に分類されないもの）</td>\n",
              "      <td>その他の事業サービス業</td>\n",
              "      <td>706</td>\n",
              "    </tr>\n",
              "    <tr>\n",
              "      <th>465</th>\n",
              "      <td>他に分類されない事業サービス業</td>\n",
              "      <td>17189.0</td>\n",
              "      <td>10685850.0</td>\n",
              "      <td>サービス業（他に分類されないもの）</td>\n",
              "      <td>その他の事業サービス業</td>\n",
              "      <td>621</td>\n",
              "    </tr>\n",
              "    <tr>\n",
              "      <th>466</th>\n",
              "      <td>集会場</td>\n",
              "      <td>744.0</td>\n",
              "      <td>219329.0</td>\n",
              "      <td>サービス業（他に分類されないもの）</td>\n",
              "      <td>その他のサービス業</td>\n",
              "      <td>294</td>\n",
              "    </tr>\n",
              "    <tr>\n",
              "      <th>467</th>\n",
              "      <td>と畜場</td>\n",
              "      <td>70.0</td>\n",
              "      <td>46919.0</td>\n",
              "      <td>サービス業（他に分類されないもの）</td>\n",
              "      <td>その他のサービス業</td>\n",
              "      <td>670</td>\n",
              "    </tr>\n",
              "    <tr>\n",
              "      <th>468</th>\n",
              "      <td>他に分類されないサービス業</td>\n",
              "      <td>132.0</td>\n",
              "      <td>121819.0</td>\n",
              "      <td>サービス業（他に分類されないもの）</td>\n",
              "      <td>その他のサービス業</td>\n",
              "      <td>922</td>\n",
              "    </tr>\n",
              "  </tbody>\n",
              "</table>\n",
              "<p>469 rows × 6 columns</p>\n",
              "</div>"
            ],
            "text/plain": [
              "                       産業     企業等数  ...         サブ産業 売上高の平均\n",
              "0                畜産食料品製造業   1913.0  ...       食料品製造業   5222\n",
              "1                水産食料品製造業   4422.0  ...       食料品製造業   1054\n",
              "2    野菜缶詰・果実缶詰・農産保存食料品製造業   1433.0  ...       食料品製造業    597\n",
              "3                  調味料製造業   1459.0  ...       食料品製造業   1934\n",
              "4                   糖類製造業     93.0  ...       食料品製造業   6027\n",
              "..                    ...      ...  ...          ...    ...\n",
              "464                   警備業   3522.0  ...  その他の事業サービス業    706\n",
              "465       他に分類されない事業サービス業  17189.0  ...  その他の事業サービス業    621\n",
              "466                   集会場    744.0  ...    その他のサービス業    294\n",
              "467                   と畜場     70.0  ...    その他のサービス業    670\n",
              "468         他に分類されないサービス業    132.0  ...    その他のサービス業    922\n",
              "\n",
              "[469 rows x 6 columns]"
            ]
          },
          "metadata": {
            "tags": []
          },
          "execution_count": 18
        }
      ]
    },
    {
      "cell_type": "markdown",
      "metadata": {
        "id": "FhFWCpaHxhBX"
      },
      "source": [
        "### データ集計\n"
      ]
    },
    {
      "cell_type": "markdown",
      "metadata": {
        "id": "XRINT3g5g8cP"
      },
      "source": [
        "データを集計して以下の質問にお答えします：\n",
        "\n",
        "*   どの産業が最高の売上\n",
        "*   売上高の平均の面でどの産業が最も効率的\n",
        "*   最高の売上を持っている産業の面でどの産業が最も大きなシェア\n",
        "\n"
      ]
    },
    {
      "cell_type": "code",
      "metadata": {
        "id": "jwid2Y5rzEGH"
      },
      "source": [
        "import matplotlib.pyplot as plt\n",
        "import seaborn as sns\n",
        "import numpy as np\n",
        "import matplotlib"
      ],
      "execution_count": 19,
      "outputs": []
    },
    {
      "cell_type": "code",
      "metadata": {
        "colab": {
          "base_uri": "https://localhost:8080/"
        },
        "id": "p94GjlSCy1AZ",
        "outputId": "a1cf5b06-2fcb-4366-c9fe-8244404b883c"
      },
      "source": [
        "!pip install japanize_matplotlib"
      ],
      "execution_count": 20,
      "outputs": [
        {
          "output_type": "stream",
          "text": [
            "Requirement already satisfied: japanize_matplotlib in /usr/local/lib/python3.6/dist-packages (1.1.3)\n",
            "Requirement already satisfied: matplotlib in /usr/local/lib/python3.6/dist-packages (from japanize_matplotlib) (3.2.2)\n",
            "Requirement already satisfied: numpy>=1.11 in /usr/local/lib/python3.6/dist-packages (from matplotlib->japanize_matplotlib) (1.19.5)\n",
            "Requirement already satisfied: cycler>=0.10 in /usr/local/lib/python3.6/dist-packages (from matplotlib->japanize_matplotlib) (0.10.0)\n",
            "Requirement already satisfied: python-dateutil>=2.1 in /usr/local/lib/python3.6/dist-packages (from matplotlib->japanize_matplotlib) (2.8.1)\n",
            "Requirement already satisfied: kiwisolver>=1.0.1 in /usr/local/lib/python3.6/dist-packages (from matplotlib->japanize_matplotlib) (1.3.1)\n",
            "Requirement already satisfied: pyparsing!=2.0.4,!=2.1.2,!=2.1.6,>=2.0.1 in /usr/local/lib/python3.6/dist-packages (from matplotlib->japanize_matplotlib) (2.4.7)\n",
            "Requirement already satisfied: six in /usr/local/lib/python3.6/dist-packages (from cycler>=0.10->matplotlib->japanize_matplotlib) (1.15.0)\n"
          ],
          "name": "stdout"
        }
      ]
    },
    {
      "cell_type": "code",
      "metadata": {
        "id": "CVqEu2VNyz4g"
      },
      "source": [
        "# matplotlibは以下のライブラリがないと日本語にサポートされていません\n",
        "import japanize_matplotlib"
      ],
      "execution_count": 21,
      "outputs": []
    },
    {
      "cell_type": "markdown",
      "metadata": {
        "id": "Mpt8gcqi_1uc"
      },
      "source": [
        "#### どの産業が最高の売上"
      ]
    },
    {
      "cell_type": "code",
      "metadata": {
        "id": "Pk4MXHrWt7zJ"
      },
      "source": [
        "# 主な産業ごとにグループすると売上を平均値。売上で並べ替え\n",
        "agg_df = labeled_df.groupby(['主な産業']).mean().sort_values(by=['売上'], ascending = False)\n",
        "# トップ８を入手する\n",
        "agg_df = agg_df.head(8)\n",
        "# グラフ凡例を作る\n",
        "industry_legend = list(agg_df.index.values)\n",
        "agg_plot = agg_df.reset_index()"
      ],
      "execution_count": 22,
      "outputs": []
    },
    {
      "cell_type": "code",
      "metadata": {
        "colab": {
          "base_uri": "https://localhost:8080/",
          "height": 242
        },
        "id": "VXANjjOrsrTM",
        "outputId": "78a1a329-b168-4c14-f8e2-ae699c21ffd6"
      },
      "source": [
        "fg = sns.FacetGrid(data=agg_plot, hue='主な産業', hue_order=industry_legend, aspect=1.61)\n",
        "fg.map(plt.scatter, '企業等数', '売上').add_legend()"
      ],
      "execution_count": 23,
      "outputs": [
        {
          "output_type": "execute_result",
          "data": {
            "text/plain": [
              "<seaborn.axisgrid.FacetGrid at 0x7f904a4d9d30>"
            ]
          },
          "metadata": {
            "tags": []
          },
          "execution_count": 23
        },
        {
          "output_type": "display_data",
          "data": {
            "image/png": "[encoded data removed]",
            "text/plain": [
              "<Figure size 513.76x216 with 1 Axes>"
            ]
          },
          "metadata": {
            "tags": [],
            "needs_background": "light"
          }
        }
      ]
    },
    {
      "cell_type": "markdown",
      "metadata": {
        "id": "Wc7W9sb8_5-7"
      },
      "source": [
        "#### 売上高の平均の面でどの産業が最も効率的"
      ]
    },
    {
      "cell_type": "code",
      "metadata": {
        "id": "EoIo6Y1Twai-"
      },
      "source": [
        "# 主な産業ごとにグループすると売上を平均値。売上高の平均で並べ替え\n",
        "agg_df = labeled_df.groupby(['主な産業']).mean().sort_values(by=['売上高の平均'], ascending = False)\n",
        "# トップ８を入手する\n",
        "agg_df = agg_df.head(8)\n",
        "# グラフ凡例を作る\n",
        "industry_legend = list(agg_df.index.values)\n",
        "agg_plot = agg_df.reset_index()"
      ],
      "execution_count": 24,
      "outputs": []
    },
    {
      "cell_type": "code",
      "metadata": {
        "colab": {
          "base_uri": "https://localhost:8080/",
          "height": 242
        },
        "id": "7JJqqV7homku",
        "outputId": "93cfcc41-e2a5-4c9a-f446-292ad65bf76b"
      },
      "source": [
        "fg = sns.FacetGrid(data=agg_plot, hue='主な産業', hue_order=industry_legend, aspect=1.61)\n",
        "fg.map(plt.scatter, '企業等数', '売上高の平均').add_legend()"
      ],
      "execution_count": 25,
      "outputs": [
        {
          "output_type": "execute_result",
          "data": {
            "text/plain": [
              "<seaborn.axisgrid.FacetGrid at 0x7f9041d92b38>"
            ]
          },
          "metadata": {
            "tags": []
          },
          "execution_count": 25
        },
        {
          "output_type": "display_data",
          "data": {
            "image/png": "[encoded data removed]",
            "text/plain": [
              "<Figure size 513.76x216 with 1 Axes>"
            ]
          },
          "metadata": {
            "tags": [],
            "needs_background": "light"
          }
        }
      ]
    },
    {
      "cell_type": "markdown",
      "metadata": {
        "id": "JidXL1ZoZwjV"
      },
      "source": [
        "#### 最高の売上を持っている産業の面でどの産業が最も大きなシェア"
      ]
    },
    {
      "cell_type": "code",
      "metadata": {
        "id": "povdbgDBzJX1"
      },
      "source": [
        "# 主な産業ごとに最も売上産業を入手する\n",
        "idx = labeled_df.groupby(['主な産業'])['売上'].transform(max) == labeled_df['売上']\n",
        "# 売上で並べ替え\n",
        "largest_sales = labeled_df[idx].sort_values(['売上'], ascending = False)\n",
        "largest_sales.reset_index(inplace = True, drop = True)\n",
        "\n",
        "industry_sales = labeled_df.groupby(['主な産業']).sum()\n",
        "industry_sales = industry_sales['売上']"
      ],
      "execution_count": 26,
      "outputs": []
    },
    {
      "cell_type": "code",
      "metadata": {
        "id": "9QZ8NPYHGex7"
      },
      "source": [
        "chart_data = largest_sales.head(5)\n",
        "stack_chart = []\n",
        "# グラフ用のデータフレームに変換するための辞書を作る\n",
        "for i in range(0, len(chart_data)):\n",
        "    industry = chart_data.loc[i, \"主な産業\"]\n",
        "    enterprise = chart_data.loc[i, \"産業\"]\n",
        "    enterprise_sales = chart_data.loc[i, \"売上\"]\n",
        "\n",
        "    # マーケットシェアの割合を計算する\n",
        "    mkt_share = round((enterprise_sales / industry_sales[industry]),4)*100\n",
        "    # 他の産業を持っているマーケットシェア\n",
        "    remaining = 100 - mkt_share\n",
        "\n",
        "    stack_chart.append(\n",
        "        {\n",
        "            '主な産業': industry,\n",
        "            '産業': enterprise,\n",
        "            '売上': mkt_share,\n",
        "            '主な産業の残り売上': remaining\n",
        "        }\n",
        "    )\n",
        "stack_df = pd.DataFrame(stack_chart)"
      ],
      "execution_count": 27,
      "outputs": []
    },
    {
      "cell_type": "code",
      "metadata": {
        "colab": {
          "base_uri": "https://localhost:8080/",
          "height": 204
        },
        "id": "d4kSGPkMJFG4",
        "outputId": "268e20d2-da4b-4cde-8624-81292ed6e3c6"
      },
      "source": [
        "stack_df"
      ],
      "execution_count": 28,
      "outputs": [
        {
          "output_type": "execute_result",
          "data": {
            "text/html": [
              "<div>\n",
              "<style scoped>\n",
              "    .dataframe tbody tr th:only-of-type {\n",
              "        vertical-align: middle;\n",
              "    }\n",
              "\n",
              "    .dataframe tbody tr th {\n",
              "        vertical-align: top;\n",
              "    }\n",
              "\n",
              "    .dataframe thead th {\n",
              "        text-align: right;\n",
              "    }\n",
              "</style>\n",
              "<table border=\"1\" class=\"dataframe\">\n",
              "  <thead>\n",
              "    <tr style=\"text-align: right;\">\n",
              "      <th></th>\n",
              "      <th>主な産業</th>\n",
              "      <th>産業</th>\n",
              "      <th>売上</th>\n",
              "      <th>主な産業の残り売上</th>\n",
              "    </tr>\n",
              "  </thead>\n",
              "  <tbody>\n",
              "    <tr>\n",
              "      <th>0</th>\n",
              "      <td>製造業</td>\n",
              "      <td>自動車・同附属品製造業</td>\n",
              "      <td>17.36</td>\n",
              "      <td>82.64</td>\n",
              "    </tr>\n",
              "    <tr>\n",
              "      <th>1</th>\n",
              "      <td>医療，福祉</td>\n",
              "      <td>社会保険事業団体</td>\n",
              "      <td>56.21</td>\n",
              "      <td>43.79</td>\n",
              "    </tr>\n",
              "    <tr>\n",
              "      <th>2</th>\n",
              "      <td>金融業，保険業</td>\n",
              "      <td>生命保険業</td>\n",
              "      <td>39.27</td>\n",
              "      <td>60.73</td>\n",
              "    </tr>\n",
              "    <tr>\n",
              "      <th>3</th>\n",
              "      <td>卸売業，小売業</td>\n",
              "      <td>食料・飲料卸売業</td>\n",
              "      <td>6.63</td>\n",
              "      <td>93.37</td>\n",
              "    </tr>\n",
              "    <tr>\n",
              "      <th>4</th>\n",
              "      <td>情報通信業</td>\n",
              "      <td>ソフトウェア業</td>\n",
              "      <td>37.19</td>\n",
              "      <td>62.81</td>\n",
              "    </tr>\n",
              "  </tbody>\n",
              "</table>\n",
              "</div>"
            ],
            "text/plain": [
              "      主な産業           産業     売上  主な産業の残り売上\n",
              "0      製造業  自動車・同附属品製造業  17.36      82.64\n",
              "1    医療，福祉     社会保険事業団体  56.21      43.79\n",
              "2  金融業，保険業        生命保険業  39.27      60.73\n",
              "3  卸売業，小売業     食料・飲料卸売業   6.63      93.37\n",
              "4    情報通信業      ソフトウェア業  37.19      62.81"
            ]
          },
          "metadata": {
            "tags": []
          },
          "execution_count": 28
        }
      ]
    },
    {
      "cell_type": "code",
      "metadata": {
        "colab": {
          "base_uri": "https://localhost:8080/",
          "height": 296
        },
        "id": "CCVFYz2KIUAP",
        "outputId": "b7404a3b-892e-45bf-fbb0-411e07944009"
      },
      "source": [
        "stack_df.plot(\n",
        "    x = '産業',\n",
        "    kind = 'barh',\n",
        "    stacked = True,\n",
        "    title = 'マーケットシェア',\n",
        "    mark_right = True\n",
        ")"
      ],
      "execution_count": 29,
      "outputs": [
        {
          "output_type": "execute_result",
          "data": {
            "text/plain": [
              "<matplotlib.axes._subplots.AxesSubplot at 0x7f904180c668>"
            ]
          },
          "metadata": {
            "tags": []
          },
          "execution_count": 29
        },
        {
          "output_type": "display_data",
          "data": {
            "image/png": "[encoded data removed]",
            "text/plain": [
              "<Figure size 432x288 with 1 Axes>"
            ]
          },
          "metadata": {
            "tags": [],
            "needs_background": "light"
          }
        }
      ]
    }
  ]
}